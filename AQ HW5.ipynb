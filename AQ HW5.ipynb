{
 "cells": [
  {
   "cell_type": "code",
   "execution_count": 10,
   "metadata": {},
   "outputs": [],
   "source": [
    "input_file = r\"C:\\Users\\ahmad\\PycharmProjects\\pythonProject\\venv\\ADM\\HW5 ADM\\AQ5 DATA LIST.txt\"\n",
    "from itertools import permutations"
   ]
  },
  {
   "cell_type": "code",
   "execution_count": 76,
   "metadata": {},
   "outputs": [
    {
     "ename": "SyntaxError",
     "evalue": "incomplete input (569740730.py, line 39)",
     "output_type": "error",
     "traceback": [
      "\u001b[1;36m  Cell \u001b[1;32mIn[76], line 39\u001b[1;36m\u001b[0m\n\u001b[1;33m    if athlete[1] not in athletes:\u001b[0m\n\u001b[1;37m                                  ^\u001b[0m\n\u001b[1;31mSyntaxError\u001b[0m\u001b[1;31m:\u001b[0m incomplete input\n"
     ]
    }
   ],
   "source": [
    "with open(input_file, 'r') as file:\n",
    "    lines = [line.rstrip() for line in file]\n",
    "\n",
    "#READING THE FILE    \n",
    "\n",
    "ok = lines[0].split('#')\n",
    "n,m,s = ok[1].split()\n",
    "\n",
    "skills1 = lines[1].split(\"#\")\n",
    "required_skills = skills1[0].split()\n",
    "lines = lines[2:]\n",
    "\n",
    "#DEFINING A DICTIONARY OF AVAILABLE ATHLETES\n",
    "athletes_available = {}\n",
    "for line in lines:\n",
    "    if line.isdigit():\n",
    "        player_id = int(line)\n",
    "    else:\n",
    "        role, score = line.split(\" \")\n",
    "        athletes_available.setdefault(role, []).append((score, player_id))\n",
    "\n",
    "athletes_available = {role: sorted(pairs, key=lambda x: int(x[0]), reverse=True) for role, pairs in athletes_available.items()}\n",
    "#DEFINING A DICTIONARY OF THE REQUIRED ATHLETES IN OUR PROBLEM\n",
    "athletes_required = {}\n",
    "count = 0\n",
    "for item in required_skills:\n",
    "    if item in athletes_required:\n",
    "        athletes_required[item] += 1\n",
    "    else:\n",
    "        athletes_required[item] = 1\n",
    "\n",
    "\n",
    "#Calculating a score for the team:\n",
    "def calc_team_score(team):\n",
    "    athletes = set()\n",
    "    score = 0\n",
    "    for role in team:\n",
    "        for athlete  in athletes_available.get(role, []):\n",
    "            if athlete[1] not in athletes:\n"
   ]
  },
  {
   "cell_type": "code",
   "execution_count": 64,
   "metadata": {},
   "outputs": [
    {
     "data": {
      "text/plain": [
       "{'BSK': [('98', 1), ('12', 10)],\n",
       " 'HCK': [('95', 7), ('82', 3), ('50', 5), ('40', 11), ('12', 1), ('9', 4)],\n",
       " 'ATH': [('52', 6), ('30', 3), ('14', 2)],\n",
       " 'VOL': [('32', 11), ('20', 14), ('1', 2)],\n",
       " 'SWM': [('59', 13), ('34', 14), ('30', 9), ('27', 4), ('16', 10), ('11', 7)],\n",
       " 'FTB': [('90', 5), ('12', 12)],\n",
       " 'RGB': [('80', 6), ('46', 9), ('7', 8)],\n",
       " 'TEN': [('85', 8), ('82', 13)],\n",
       " 'SOC': [('41', 12)]}"
      ]
     },
     "execution_count": 64,
     "metadata": {},
     "output_type": "execute_result"
    }
   ],
   "source": [
    "athletes_available"
   ]
  },
  {
   "cell_type": "code",
   "execution_count": 65,
   "metadata": {},
   "outputs": [
    {
     "data": {
      "text/plain": [
       "['SWM', 'VOL', 'ATH', 'VOL', 'VOL', 'BSK', 'HCK', 'BSK', 'SWM', 'BSK']"
      ]
     },
     "execution_count": 65,
     "metadata": {},
     "output_type": "execute_result"
    }
   ],
   "source": [
    "required_skills"
   ]
  },
  {
   "cell_type": "code",
   "execution_count": 66,
   "metadata": {},
   "outputs": [
    {
     "data": {
      "text/plain": [
       "{'SWM': 2, 'VOL': 3, 'ATH': 1, 'BSK': 3, 'HCK': 1}"
      ]
     },
     "execution_count": 66,
     "metadata": {},
     "output_type": "execute_result"
    }
   ],
   "source": [
    "\n",
    "athletes_required"
   ]
  },
  {
   "cell_type": "code",
   "execution_count": 69,
   "metadata": {},
   "outputs": [
    {
     "data": {
      "text/plain": [
       "{'BSK': [('98', 1), ('12', 10)],\n",
       " 'HCK': [('95', 7), ('82', 3), ('50', 5), ('40', 11), ('12', 1), ('9', 4)],\n",
       " 'ATH': [('52', 6), ('30', 3), ('14', 2)],\n",
       " 'VOL': [('32', 11), ('20', 14), ('1', 2)],\n",
       " 'SWM': [('59', 13), ('34', 14), ('30', 9), ('27', 4), ('16', 10), ('11', 7)]}"
      ]
     },
     "execution_count": 69,
     "metadata": {},
     "output_type": "execute_result"
    }
   ],
   "source": [
    "filtered_dict = {key: athletes_available[key] for key in athletes_available if key in athletes_required}\n",
    "\n",
    "filtered_dict"
   ]
  },
  {
   "cell_type": "code",
   "execution_count": 71,
   "metadata": {},
   "outputs": [
    {
     "data": {
      "text/plain": [
       "{'SWM': [('59', 13), ('34', 14)],\n",
       " 'VOL': [('32', 11), ('20', 14), ('1', 2)],\n",
       " 'ATH': [('52', 6)],\n",
       " 'BSK': [('98', 1), ('12', 10)],\n",
       " 'HCK': [('95', 7)]}"
      ]
     },
     "execution_count": 71,
     "metadata": {},
     "output_type": "execute_result"
    }
   ],
   "source": [
    "top_n_values_per_role = {\n",
    "    role: sorted(items, key=lambda x: int(x[0]), reverse=True)[:n] \n",
    "    for role, n in athletes_required.items() \n",
    "    for items in [filtered_dict[role]]\n",
    "}\n",
    "top_n_values_per_role"
   ]
  },
  {
   "cell_type": "code",
   "execution_count": 72,
   "metadata": {},
   "outputs": [
    {
     "data": {
      "text/plain": [
       "{'SWM': 93, 'VOL': 53, 'ATH': 52, 'BSK': 110, 'HCK': 95}"
      ]
     },
     "execution_count": 72,
     "metadata": {},
     "output_type": "execute_result"
    }
   ],
   "source": [
    "summed_values_per_role = {\n",
    "    role: sum(int(item[0]) for item in items) \n",
    "    for role, items in top_n_values_per_role.items()\n",
    "}\n",
    "summed_values_per_role"
   ]
  },
  {
   "cell_type": "code",
   "execution_count": 73,
   "metadata": {},
   "outputs": [],
   "source": [
    "total_sum = 0\n",
    "for value in summed_values_per_role.values():\n",
    "    total_sum += value"
   ]
  },
  {
   "cell_type": "code",
   "execution_count": 74,
   "metadata": {},
   "outputs": [
    {
     "data": {
      "text/plain": [
       "403"
      ]
     },
     "execution_count": 74,
     "metadata": {},
     "output_type": "execute_result"
    }
   ],
   "source": [
    "total_sum"
   ]
  },
  {
   "cell_type": "code",
   "execution_count": 34,
   "metadata": {},
   "outputs": [
    {
     "data": {
      "text/plain": [
       "{'BSK': 1}"
      ]
     },
     "execution_count": 34,
     "metadata": {},
     "output_type": "execute_result"
    }
   ],
   "source": []
  },
  {
   "cell_type": "code",
   "execution_count": 35,
   "metadata": {},
   "outputs": [
    {
     "name": "stdout",
     "output_type": "stream",
     "text": [
      "BSK, ('98', 1)\n",
      "HCK, ('95', 7)\n",
      "ATH, ('52', 6)\n",
      "VOL, ('32', 11)\n",
      "SWM, ('59', 13)\n",
      "FTB, ('90', 5)\n",
      "RGB, ('80', 6)\n",
      "TEN, ('85', 8)\n",
      "SOC, ('41', 12)\n"
     ]
    }
   ],
   "source": [
    "from collections import defaultdict\n",
    "\n",
    "summation_dict = defaultdict(int)\n",
    "\n",
    "for role, characteristics in athletes_available.items():\n",
    "    if len(characteristics) != 0:\n",
    "        max_value = max(characteristics, key=lambda x: x[0])\n",
    "        summation_dict[role] += int(max_value[0])  # Convert to integer before adding\n",
    "        characteristics.remove(max_value)\n",
    "        print(f\"{role}, {max_value}\")"
   ]
  },
  {
   "cell_type": "code",
   "execution_count": null,
   "metadata": {},
   "outputs": [],
   "source": []
  },
  {
   "cell_type": "code",
   "execution_count": null,
   "metadata": {},
   "outputs": [],
   "source": [
    "off_roles_required = {}\n",
    "for role, num_required in athletes_required.items():\n",
    "    if role in num_athletes_available.keys():\n",
    "        if athletes_required[role] > num_athletes_available[role]:\n",
    "            off_roles_required[role] = abs(num_athletes_available[role] - athletes_required[role])\n",
    "\n",
    "off_roles_required\n"
   ]
  }
 ],
 "metadata": {
  "kernelspec": {
   "display_name": "base",
   "language": "python",
   "name": "python3"
  },
  "language_info": {
   "codemirror_mode": {
    "name": "ipython",
    "version": 3
   },
   "file_extension": ".py",
   "mimetype": "text/x-python",
   "name": "python",
   "nbconvert_exporter": "python",
   "pygments_lexer": "ipython3",
   "version": "3.11.4"
  }
 },
 "nbformat": 4,
 "nbformat_minor": 2
}

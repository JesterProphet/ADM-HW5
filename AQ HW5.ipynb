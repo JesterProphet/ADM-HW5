{
 "cells": [
  {
   "cell_type": "markdown",
   "metadata": {},
   "source": [
    "# Part A"
   ]
  },
  {
   "cell_type": "markdown",
   "metadata": {},
   "source": [
    "\n",
    "<font size=\"5\">**Exercise 1:**</font>\n"
   ]
  },
  {
   "cell_type": "code",
   "execution_count": 2,
   "metadata": {},
   "outputs": [
    {
     "data": {
      "text/plain": [
       "(399, {1, 2, 6, 7, 9, 10, 11, 13, 14})"
      ]
     },
     "execution_count": 2,
     "metadata": {},
     "output_type": "execute_result"
    }
   ],
   "source": [
    "input_file = r\"C:\\Users\\ahmad\\PycharmProjects\\pythonProject\\venv\\ADM\\HW5 ADM\\AQ5 DATA LIST.txt\"\n",
    "with open(input_file, 'r') as file:\n",
    "    lines = [line.rstrip() for line in file]\n",
    "\n",
    "#READING THE FILE    \n",
    "\n",
    "ok = lines[0].split('#')\n",
    "n,m,s = ok[1].split()\n",
    "\n",
    "skills1 = lines[1].split(\"#\")\n",
    "required_skills = skills1[0].split()\n",
    "lines = lines[2:]\n",
    "\n",
    "#DEFINING A DICTIONARY OF AVAILABLE ATHLETES\n",
    "athletes_available = {}\n",
    "for line in lines:\n",
    "    if line.isdigit():\n",
    "        player_id = int(line)\n",
    "    else:\n",
    "        role, score = line.split(\" \")\n",
    "        athletes_available.setdefault(role, []).append((score, player_id))\n",
    "\n",
    "athletes_available = {role: sorted(pairs, key=lambda x: int(x[0]), reverse=True) for role, pairs in athletes_available.items()}\n",
    "#DEFINING A DICTIONARY OF THE REQUIRED ATHLETES IN OUR PROBLEM\n",
    "athletes_required = {}\n",
    "count = 0\n",
    "for item in required_skills:\n",
    "    if item in athletes_required:\n",
    "        athletes_required[item] += 1\n",
    "    else:\n",
    "        athletes_required[item] = 1\n",
    "\n",
    "#DEFINING A CALCULATE TEAM SCORE FUNCTION\n",
    "def calc_team_score(team):\n",
    "    athletes = set()\n",
    "    score = 0\n",
    "    for role in team:\n",
    "        for i, athlete in enumerate(athletes_available.get(role, None)):\n",
    "            if athlete[1] not in athletes:\n",
    "                score += int(athlete[0])  \n",
    "                athletes.add(athlete[1])\n",
    "                break\n",
    "    return score, athletes\n",
    "calc_team_score(required_skills)\n"
   ]
  },
  {
   "cell_type": "markdown",
   "metadata": {},
   "source": [
    "\n",
    "<font size=\"5\">**Exercise 2: Calculation of time complexity**</font>\n",
    "\n",
    "\n",
    "Reading the lines of the file leaves us with O(N(S+1)) complexity.  The sorting function leaves us with a complexity of O(K*N*Slog(N*S)), where K is  the number of unique roles taken by the athletes. the dictionary has K keys and every key has a list of tuples that it has to sort. the total number of elements will be N*S since every athlete might have multiple skills too.\n",
    "\n",
    "while defining the dictionary of available athletes, we have used a for loop giving us a complexity of O(N*(S+1)). Creating the athletes_required dictionary is of o(R) where R is the number of unique roles required.  however, in order to calculate the team score, we used a nested for loop with 2 different sizes, the 1st loop is of the size of the required skills/team, o(R) and the 2nd loop is of the size of o(M). This means that this nested loop is of size (M*R).\n",
    "\n",
    "Therefore, the overall complexity of our code is of O(K*N*Slog(N*S)), since this is dominant over the remaining orders of magnitude\n",
    ".\n",
    "\n",
    "\n"
   ]
  },
  {
   "cell_type": "markdown",
   "metadata": {},
   "source": [
    "\n",
    "<font size=\"5\">**GPT'S answer to Exercise 2:**</font>\n",
    "\n",
    "note: GPT has used different definitions of the defined K and R, please avoid confusion.\n",
    "\n",
    "\n",
    "To calculate the time complexity of this script, we will analyze each significant portion of the code separately:\n",
    "\n",
    "Reading and processing the file:\n",
    "\n",
    "Reading the file and splitting lines is O(N), where N is the number of lines in the file.\n",
    "Splitting and processing the first few lines (including skills1, required_skills, and similar operations) are generally O(1) operations since their size doesn't scale with the input size.\n",
    "Creating athletes_available dictionary:\n",
    "\n",
    "This involves iterating over each line and performing split and append operations. The time complexity for this part is O(N), where N is the number of lines after the initial setup lines.\n",
    "The sorting of athletes within each role is O(M log M), where M is the number of athletes in a role. In the worst case, if all athletes belong to a single role, this would be O(N log N).\n",
    "Creating athletes_required dictionary:\n",
    "\n",
    "This operation is O(K), where K is the number of required skills. Since K is generally small and constant, it can be considered O(1) in practical scenarios.\n",
    "calc_team_score function:\n",
    "\n",
    "The function iterates over each role in the required_skills list and then iterates over athletes in athletes_available.\n",
    "The worst-case time complexity of this function is O(R * M), where R is the number of roles in required_skills and M is the number of athletes in the largest role. However, since there's a break statement inside the nested loop, the function typically performs fewer operations than this theoretical maximum.\n",
    "Overall, the time complexity of the script is dominated by the creation and sorting of the athletes_available dictionary, which is O(N log N) in the worst case. The actual performance may be better, depending on the distribution of athletes across roles."
   ]
  },
  {
   "cell_type": "markdown",
   "metadata": {},
   "source": [
    "<font size=\"5\">**Exercise 3:**</font>\n",
    "\n",
    "The algorithm does not have an exponential time complexity.\n",
    "\n"
   ]
  },
  {
   "cell_type": "markdown",
   "metadata": {},
   "source": [
    "<font size=\"5\">**Exercise 4:**</font>\n",
    "\n",
    "The time complexity overall will definitely change, the most complex part is the sorting algorithm where we have N*S total elements and K different lists, if S=1 the time complexity will reduce significantly, while adding more skills to assess will of course require a more complex time domain.\n"
   ]
  },
  {
   "cell_type": "markdown",
   "metadata": {},
   "source": [
    "# Part B"
   ]
  },
  {
   "cell_type": "markdown",
   "metadata": {},
   "source": [
    "<font size=\"5\">**Exercise 1:**</font>\n",
    "\n",
    "In order to determine wether a problem is P,  NP complete, or NP hard, we have to reduce it down into other known problems where we know this answer. \n",
    "\n",
    "\n",
    " This problem is divided into 2 sections, the 1st part is to identify the best team possible, with team members that satisfy the required skillset. This problem resembles the Set Cover problem in some ways, we are  looking for the smallest number of sets(individuals that cover a certain number of roles) which their union equals the universe(the required Skillset); whereas the 2nd part is essentially a Minimum Spanning Trees problem with some additional constraints, and having an optimization goal. However, unlike the classical Set cover problem, the size of the team  \n",
    "\n",
    "The MST problem is in class P, since we already know that Prim and Kruksal algorithms are able to solve this problem.\n",
    "\n",
    "However, for the Set Cover problem, it is an NP- hard problem since we are considering the optimization version of this problem. if we were to consider the decision problem variant, we would be left with an NP complete problem. \n",
    "\n"
   ]
  },
  {
   "cell_type": "markdown",
   "metadata": {},
   "source": [
    "<font size=\"5\">**Exercise 2:**</font>\n",
    "\n",
    "Firsty, initialize a list containing all the required roles T. Then, initialize an empty team X' and its corresponding graph G[X'].\n",
    "\n",
    "For each individual, estimate the effort required to collaborate with others based on the given edge weights in the graph.\n",
    "Then, sort the individuals by the number of skills they posess and how good they are in that skill in order to prioritize them over others. \n",
    "\n",
    "Procceed to add these individuals into the team and remove those skills from set T, and update  the corresponding graph of X'. \n",
    "\n",
    "For the remaining individuals, to complete the required set of skills, select the ones that have the lowest collaborative effort. \n",
    "\n",
    "\n",
    "After constructing the team, we procceed to the MST problem. Here, we can use prim or Kruksal algorithms to find the minimum spanning trees. \n",
    "\n",
    "\n",
    "Kruksal:\n",
    "Sort all the edges in non-decreasing order of their weight. then pick the smallest edge. Check if it forms a cycle with the spanning tree formed. If the cycle is not formed, include this edge. Else, discard it. We iterate until we reach n-1 edges. \n"
   ]
  },
  {
   "cell_type": "markdown",
   "metadata": {},
   "source": [
    "<font size=\"5\">**Exercise 3:**</font>\n",
    "\n",
    "Firstly, for effort estimation, we will be looking at 1 individual and comparing it to the n-1 remaining individual, considering a fully connected graph. this step is of order o(n*(n-1)) simplifying into o(n^2).\n",
    "\n",
    "\n",
    "The sorting step considers an o(nlog(n)) complexity. \n",
    "\n",
    "For the creation of the team X' and its graph, we will be using a nested loop, one loop over the Team itself and another loop over the set of skills required. this will give us a complexity of o(m*n), where m is the length of the list of the required skills.\n",
    "\n",
    "the complexity of the Kruksal algorithm is o(n*log(n)).\n",
    "\n",
    "The dominant complexity is that of the effort estimation or the kruksal algorithm, giving us a final complexity of o(n*m + n*log(n))\n"
   ]
  }
 ],
 "metadata": {
  "kernelspec": {
   "display_name": "base",
   "language": "python",
   "name": "python3"
  },
  "language_info": {
   "codemirror_mode": {
    "name": "ipython",
    "version": 3
   },
   "file_extension": ".py",
   "mimetype": "text/x-python",
   "name": "python",
   "nbconvert_exporter": "python",
   "pygments_lexer": "ipython3",
   "version": "3.11.4"
  }
 },
 "nbformat": 4,
 "nbformat_minor": 2
}

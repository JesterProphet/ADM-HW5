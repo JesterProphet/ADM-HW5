{
  "cells": [
    {
      "cell_type": "markdown",
      "id": "b395ce82",
      "metadata": {
        "id": "b395ce82"
      },
      "source": [
        "# Homework 5 - The eternal significance of publications and citations!\n",
        "\n",
        "#### Group 15 <br>\n",
        "\n",
        "<div style=\"float: left;\">\n",
        "    <table>\n",
        "        <tr>\n",
        "            <th>Student</th>\n",
        "            <th>GitHub</th>\n",
        "            <th>Matricola</th>\n",
        "            <th>E-Mail</th>\n",
        "        </tr>\n",
        "        <tr>\n",
        "            <td>André Leibrant</td>\n",
        "            <td>JesterProphet</td>\n",
        "            <td>2085698</td>\n",
        "            <td>andre.leibrant@gmx.de</td>\n",
        "        </tr>\n",
        "        <tr>\n",
        "            <td>Gianluca Procopio</td>\n",
        "            <td>gianluca-24</td>\n",
        "            <td>1942103</td>\n",
        "            <td>procopio.1942103@studenti.uniroma1.it</td>\n",
        "        </tr>\n",
        "    </table>\n",
        "</div>"
      ]
    },
    {
      "cell_type": "markdown",
      "id": "562aa04d",
      "metadata": {
        "id": "562aa04d"
      },
      "source": [
        "#### Import Libraries and Modules"
      ]
    },
    {
      "cell_type": "code",
      "execution_count": 22,
      "id": "80c8a16f",
      "metadata": {
        "id": "80c8a16f"
      },
      "outputs": [],
      "source": [
        "import ast\n",
        "import csv\n",
        "import json\n",
        "import networkx as nx\n",
        "import pandas as pd\n",
        "import numpy as np\n",
        "import matplotlib as plt\n",
        "import time\n",
        "import itertools\n",
        "import random\n",
        "import heapq"
      ]
    },
    {
      "cell_type": "code",
      "source": [
        "from google.colab import drive\n",
        "drive.mount('/content/drive')"
      ],
      "metadata": {
        "colab": {
          "base_uri": "https://localhost:8080/"
        },
        "id": "fde9qqe--6dF",
        "outputId": "ec94201d-ce87-4274-c3f6-0f45fc7b61f7"
      },
      "id": "fde9qqe--6dF",
      "execution_count": 2,
      "outputs": [
        {
          "output_type": "stream",
          "name": "stdout",
          "text": [
            "Mounted at /content/drive\n"
          ]
        }
      ]
    },
    {
      "cell_type": "markdown",
      "id": "04ac396f",
      "metadata": {
        "id": "04ac396f"
      },
      "source": [
        "## 1. Data\n",
        "In this homework, you will work on a dataset that contains information about a group of papers and their citation relationships. You can find and download the dataset [here](https://www.kaggle.com/datasets/mathurinache/citation-network-dataset).\n",
        "\n",
        "### Graphs setup\n",
        "Based on the available data, you will create two graphs to model our relationships as follows:\n",
        "\n",
        "1. **Citation graph:** This graph should represent the paper's citation relationships. We want this graph to be unweighted and directed. The citation should represent the citation given from one paper to another. For example, if paper A has cited paper B, we should expect an edge from node A to B.\n",
        "\n",
        "2. **Collaboration graph:** This graph should represent the collaborations of the paper's authors. This graph should be weighted and undirected. Consider an appropriate weighting scheme for your edges to make your graph weighted.\n",
        "\n",
        "### Data pre-processing\n",
        "The dataset is quite large and may not fit in your memory when you try constructing your graph. So, what is the solution? You should focus your investigation on a subgraph. You can work on the most connected component in the graph. However, you must first construct and analyze the connections to identify the connected components.\n",
        "\n",
        "As a result, you will attempt to approximate that most connected component by performing the following steps:\n",
        "\n",
        "1. Identify the top **10,000 papers** with the <u>highest number of citations</u>.\n",
        "\n",
        "\n",
        "2. Then the **nodes** of your graphs would be as follows:\n",
        "\n",
        "    **Citation graph:** you can consider each of the papers as your nodes\n",
        "\n",
        "    **Collaboration graph:** the authors of these papers would be your nodes\n",
        "\n",
        "\n",
        "3. For the **edges** of the two graphs, you would have the following cases:\n",
        "\n",
        "    **Citation graph:** only consider the citation relationship between these 10,000 papers and ignore the rest.\n",
        "\n",
        "    **Collaboration graph:** only consider the collaborations between the authors of these 10,000 papers and ignore the rest.\n",
        "    \n",
        "---\n",
        "\n",
        "We decided to read the large JSON file line by line and save the paper `id` with corresponding `n_citation` in a list.\n",
        "\n",
        "---"
      ]
    },
    {
      "cell_type": "code",
      "execution_count": null,
      "id": "9a38d48d",
      "metadata": {
        "scrolled": false,
        "id": "9a38d48d"
      },
      "outputs": [],
      "source": [
        "# File path for papers json file\n",
        "file_path = \"data.json\"\n",
        "\n",
        "# List to store paper information\n",
        "papers = []\n",
        "\n",
        "# Open the papers json file\n",
        "with open(file_path, \"r\") as file:\n",
        "\n",
        "    # Iterate through every line of the file\n",
        "    for line_number, line in enumerate(file):\n",
        "\n",
        "        # Remove the leading comma\n",
        "        if line.startswith(\",\"):\n",
        "            line = line[1:]\n",
        "\n",
        "        # Skip the opening and ending braket\n",
        "        if len(line) > 2:\n",
        "\n",
        "            # Skip lines that have non-readable characters\n",
        "            try:\n",
        "\n",
        "                # Parse the json line\n",
        "                data = json.loads(line)\n",
        "\n",
        "                # Extract the id and number of citations (set to 0 if doesn't exist)\n",
        "                paper_id = data[\"id\"]\n",
        "                paper_citations = data.get(\"n_citation\", 0)\n",
        "\n",
        "                # Append the information to the list\n",
        "                papers.append({\"id\": paper_id, \"n_citations\": paper_citations})\n",
        "\n",
        "            except:\n",
        "                pass"
      ]
    },
    {
      "cell_type": "markdown",
      "id": "02e0276d",
      "metadata": {
        "id": "02e0276d"
      },
      "source": [
        "---\n",
        "\n",
        "In the next step we sort the list by `n_citations`, extract the top 10,000 entries and convert the id key values to a list.\n",
        "\n",
        "---"
      ]
    },
    {
      "cell_type": "code",
      "execution_count": null,
      "id": "7e4b8a60",
      "metadata": {
        "id": "7e4b8a60"
      },
      "outputs": [],
      "source": [
        "# Sort the list based on the number of citations\n",
        "papers.sort(key=lambda paper: paper[\"n_citations\"], reverse=True)\n",
        "\n",
        "# Extract the top 10000 entries\n",
        "top_10000_papers = papers[:10000]\n",
        "\n",
        "# Convert id key values to list\n",
        "paper_ids = [paper[\"id\"] for paper in top_10000_papers]"
      ]
    },
    {
      "cell_type": "markdown",
      "id": "6ffa1072",
      "metadata": {
        "id": "6ffa1072"
      },
      "source": [
        "---\n",
        "\n",
        "Finally, we are going to iterate through the JSON file again and only extract the papers which are inside the top 10,000 list.\n",
        "\n",
        "---"
      ]
    },
    {
      "cell_type": "code",
      "execution_count": null,
      "id": "572e8459",
      "metadata": {
        "id": "572e8459"
      },
      "outputs": [],
      "source": [
        "# Initialize an empty Pandas DataFrame\n",
        "df_top_10000_papers = pd.DataFrame()\n",
        "\n",
        "# Open the papers json file\n",
        "with open(file_path, \"r\") as file:\n",
        "\n",
        "    # Iterate through every line of the file\n",
        "    for _, line in enumerate(file):\n",
        "\n",
        "        # Remove the leading comma\n",
        "        if line.startswith(\",\"):\n",
        "            line = line[1:]\n",
        "\n",
        "        # Skip the opening and ending braket\n",
        "        if len(line) > 2:\n",
        "\n",
        "            # Skip lines that have non-readable characters\n",
        "            try:\n",
        "\n",
        "                # Parse the json line\n",
        "                data = json.loads(line)\n",
        "\n",
        "                # Only append if the id is from the top 10000 papers list\n",
        "                if data[\"id\"] in paper_ids:\n",
        "\n",
        "                    # Load the json string into a temporary Pandas DataFrame\n",
        "                    tmp_df = pd.read_json(line, lines=True)\n",
        "\n",
        "                    # Append the temporary DataFrame to the main DataFrame\n",
        "                    df_top_10000_papers = pd.concat([df_top_10000_papers, tmp_df], ignore_index=True)\n",
        "\n",
        "            except:\n",
        "                pass"
      ]
    },
    {
      "cell_type": "markdown",
      "id": "a3d56f4b",
      "metadata": {
        "id": "a3d56f4b"
      },
      "source": [
        "---\n",
        "\n",
        "We save the final result inside a CSV file, so that we don't have to always rerun the previous steps.\n",
        "\n",
        "---"
      ]
    },
    {
      "cell_type": "code",
      "execution_count": null,
      "id": "280627ca",
      "metadata": {
        "id": "280627ca"
      },
      "outputs": [],
      "source": [
        "# Save results in CSV file\n",
        "df_top_10000_papers.to_csv(\"top_10000_papers.csv\", index=False)"
      ]
    },
    {
      "cell_type": "markdown",
      "id": "53434c1a",
      "metadata": {
        "id": "53434c1a"
      },
      "source": [
        "---\n",
        "\n",
        "We read the results inside the CSV file into a Pandas DataFrame for creating the citation and collaboration graphs.\n",
        "\n",
        "---"
      ]
    },
    {
      "cell_type": "code",
      "execution_count": 3,
      "id": "0faf9651",
      "metadata": {
        "id": "0faf9651"
      },
      "outputs": [],
      "source": [
        "# Read results from CSV file\n",
        "\n",
        "df_top_10000_papers = pd.read_csv(\"/content/drive/MyDrive/hw5_adm/top_10000_papers.csv\")"
      ]
    },
    {
      "cell_type": "code",
      "source": [
        "# Read results from CSV file\n",
        "\n",
        "df_top_10000_papers = pd.read_csv(\"/content/drive/MyDrive/ADM-HW5/top_10000_papers.csv\")"
      ],
      "metadata": {
        "id": "psQFSGG14qqq"
      },
      "id": "psQFSGG14qqq",
      "execution_count": null,
      "outputs": []
    },
    {
      "cell_type": "markdown",
      "id": "b012d8b9",
      "metadata": {
        "id": "b012d8b9"
      },
      "source": [
        "---\n",
        "\n",
        "First, we are going to create the citation (direct) graph using the paper's citation relationships. For this we extract all unique values between paper `ids` and `references` (which we convert from a string to a list of integers) and save the results inside `all_nodes`. Then we iterate through every paper, add the node if it is inside `all_nodes`, and add the edge between the `id` and `reference` if both are inside `all_nodes`.\n",
        "\n",
        "---"
      ]
    },
    {
      "cell_type": "code",
      "execution_count": 4,
      "id": "4e76aa60",
      "metadata": {
        "id": "4e76aa60"
      },
      "outputs": [],
      "source": [
        "# Drop all entries where the references field is empty\n",
        "df_top_10000_papers = df_top_10000_papers.dropna(subset=[\"references\"])\n",
        "\n",
        "# Create an empty directed graph for the citations\n",
        "citation_graph = nx.DiGraph()\n",
        "\n",
        "# Get all unique paper ids\n",
        "unique_ids = df_top_10000_papers[\"id\"].unique()\n",
        "\n",
        "# Extract all references and convert to a list of integers\n",
        "reference_values = []\n",
        "for references_str in df_top_10000_papers[\"references\"]:\n",
        "    references_list = ast.literal_eval(references_str)\n",
        "    reference_values.extend(references_list)\n",
        "\n",
        "# Get all unique values between both columns\n",
        "all_nodes = set(unique_ids).union(set(reference_values))\n",
        "\n",
        "# Add nodes and edges to the graph only for the nodes present in the file\n",
        "for _, row in df_top_10000_papers.iterrows():\n",
        "    paper_id = row[\"id\"]\n",
        "    references = ast.literal_eval(row[\"references\"])\n",
        "\n",
        "    # Add node if not already added\n",
        "    if paper_id not in citation_graph.nodes:\n",
        "        citation_graph.add_node(paper_id)\n",
        "\n",
        "    # Add edges for references that are in the file\n",
        "    for ref_id in references:\n",
        "        if ref_id in all_nodes:\n",
        "            citation_graph.add_edge(paper_id, ref_id)"
      ]
    },
    {
      "cell_type": "markdown",
      "id": "56ffd1c4",
      "metadata": {
        "id": "56ffd1c4"
      },
      "source": [
        "---\n",
        "\n",
        "In the next step we find the largest strongly connected component and save the result inside a subgraph.\n",
        "\n",
        "---"
      ]
    },
    {
      "cell_type": "code",
      "execution_count": 5,
      "id": "603c1284",
      "metadata": {
        "id": "603c1284"
      },
      "outputs": [],
      "source": [
        "# Get all strongly connected components\n",
        "strongly_connected_components = nx.strongly_connected_components(citation_graph)\n",
        "\n",
        "# Find the largest strongly connected component\n",
        "largest_component = max(strongly_connected_components, key=len)\n",
        "\n",
        "# Create a subgraph from the largest component\n",
        "citation_subgraph = citation_graph.subgraph(largest_component)"
      ]
    },
    {
      "cell_type": "markdown",
      "id": "8b7faf4d",
      "metadata": {
        "id": "8b7faf4d"
      },
      "source": [
        "---\n",
        "\n",
        "We quickly plot the subgraph:\n",
        "\n",
        "---"
      ]
    },
    {
      "cell_type": "code",
      "execution_count": 8,
      "id": "8be51f58",
      "metadata": {
        "colab": {
          "base_uri": "https://localhost:8080/",
          "height": 515
        },
        "id": "8be51f58",
        "outputId": "8663e4c2-9d7d-4fc9-db4a-7bea705dc80a"
      },
      "outputs": [
        {
          "output_type": "display_data",
          "data": {
            "text/plain": [
              "<Figure size 640x480 with 1 Axes>"
            ],
            "image/png": "[encoded data removed]"
          },
          "metadata": {}
        }
      ],
      "source": [
        "# Plot the subgraph\n",
        "pos = nx.spring_layout(citation_subgraph)\n",
        "nx.draw(citation_subgraph,\n",
        "        pos,\n",
        "        with_labels=False,\n",
        "        arrowsize=13,\n",
        "        connectionstyle=\"arc3, rad=0.4\")\n",
        "# plt.title(\"Largest Strongly Connected Component of the Citation Graph\")\n",
        "# plt.show()"
      ]
    },
    {
      "cell_type": "markdown",
      "id": "6cea3ea4",
      "metadata": {
        "id": "6cea3ea4"
      },
      "source": [
        "---\n",
        "\n",
        "Next, we are going to create the collaboration (undirected and weigthed) graph using the collaborations of the paper's authors. For this we iterate through every paper and convert the authors list from a string to a list of dictionaries. Then we iterate through every pair of authors and add the nodes and edges if they don't exist yet. For the edge weight we decided to use the number of times two authors have collaborated. We are going to count the number of collaborations between each pair of authors and use that count as the weight.\n",
        "\n",
        "---"
      ]
    },
    {
      "cell_type": "code",
      "execution_count": 92,
      "id": "7b7318e6",
      "metadata": {
        "id": "7b7318e6"
      },
      "outputs": [],
      "source": [
        "# Create an empty undirected graph for the collaboration\n",
        "collaboration_graph = nx.Graph()\n",
        "\n",
        "# Iterate through each row in the DataFrame\n",
        "for _, paper in df_top_10000_papers.iterrows():\n",
        "\n",
        "    # Convert the string to a list of dictionaries\n",
        "    authors_list = ast.literal_eval(paper[\"authors\"])\n",
        "\n",
        "    # Iterate through every pair of authors\n",
        "    for i, author_i_dict in enumerate(authors_list):\n",
        "        for j, author_j_dict in enumerate(authors_list[i+1:], start=i+1):\n",
        "\n",
        "            # Retrieve author names\n",
        "            author_i = author_i_dict[\"name\"]\n",
        "            author_j = author_j_dict[\"name\"]\n",
        "\n",
        "            # Initialize weight to 1\n",
        "            weight = 1\n",
        "\n",
        "            # Add nodes\n",
        "            collaboration_graph.add_nodes_from([author_i, author_j])\n",
        "\n",
        "            # Add edge if not already added and if yes, increase the weight by 1\n",
        "            if not collaboration_graph.has_edge(author_i, author_j):\n",
        "                collaboration_graph.add_edge(author_i, author_j, weight=weight)\n",
        "                collaboration_graph[author_i][author_j][\"titles\"] = [paper[\"title\"]]\n",
        "            else:\n",
        "                collaboration_graph[author_i][author_j][\"weight\"] += 1\n",
        "                collaboration_graph[author_i][author_j][\"titles\"] += [paper[\"title\"]]"
      ]
    },
    {
      "cell_type": "markdown",
      "id": "46eecde5",
      "metadata": {
        "id": "46eecde5"
      },
      "source": [
        "---\n",
        "\n",
        "In the next step we find the largest connected component and save the result inside a subgraph.\n",
        "\n",
        "---"
      ]
    },
    {
      "cell_type": "code",
      "execution_count": 93,
      "id": "b5899265",
      "metadata": {
        "id": "b5899265"
      },
      "outputs": [],
      "source": [
        "# Get all connected components\n",
        "connected_components = list(nx.connected_components(collaboration_graph))\n",
        "\n",
        "# Find the largest connected component\n",
        "largest_component = max(connected_components, key=len)\n",
        "\n",
        "# Create a subgraph from the largest connected component\n",
        "collaboration_subgraph = collaboration_graph.subgraph(largest_component)"
      ]
    },
    {
      "cell_type": "markdown",
      "id": "490577bb",
      "metadata": {
        "id": "490577bb"
      },
      "source": [
        "---\n",
        "\n",
        "**Note:** A graphical representation was not possible because the subgraph has 7324 nodes with 72875 edges!\n",
        "\n",
        "---"
      ]
    },
    {
      "cell_type": "markdown",
      "source": [
        "### Functionality 1 - Graph Feature"
      ],
      "metadata": {
        "id": "_Ahtt2G__sJo"
      },
      "id": "_Ahtt2G__sJo"
    },
    {
      "cell_type": "markdown",
      "source": [
        "to comment"
      ],
      "metadata": {
        "id": "E8JdzjCKIpv6"
      },
      "id": "E8JdzjCKIpv6"
    },
    {
      "cell_type": "code",
      "execution_count": null,
      "id": "bf8c1dc7",
      "metadata": {
        "id": "bf8c1dc7"
      },
      "outputs": [],
      "source": [
        "# graph1: citation_graph\n",
        "# graph2: collaboration_graph"
      ]
    },
    {
      "cell_type": "code",
      "source": [
        "# functionality 1\n",
        "def graph_features(graph,graph_name):\n",
        "  nodes_n = graph.number_of_nodes()\n",
        "  edge_n = graph.number_of_edges()\n",
        "  density = nx.density(graph)\n",
        "  degree_dist = nx.degree_histogram(graph)\n",
        "  tot_degree = dict(graph.degree())\n",
        "  degree_avg = sum(tot_degree.values()) / nodes_n\n",
        "\n",
        "  # compute hub, 95th percentile\n",
        "  perc = np.percentile(list(tot_degree.values()),95)\n",
        "  hub = [node_key for node_key, node_val in tot_degree.items() if node_val >= perc]\n",
        "  # graph dense or sparse\n",
        "  # max number of edges\n",
        "  th = 0.6\n",
        "  max_edges = nodes_n * (nodes_n - 1)/2\n",
        "  is_dense = True if edge_n / max_edges >= th else False\n",
        "  return nodes_n,edge_n,density,degree_dist,degree_avg,hub,is_dense\n",
        "\n",
        "name = int(input('Insert 0 for Citation Graph and 1 for Collaboration Graph: '))\n",
        "\n",
        "if name == 0:\n",
        "  cit_features = graph_features(citation_graph,'citation')\n",
        "  print(cit_features)\n",
        "else:\n",
        "  collab_features = graph_features(collaboration_graph,'collaboration')\n",
        "  print(collab_features)"
      ],
      "metadata": {
        "colab": {
          "base_uri": "https://localhost:8080/"
        },
        "id": "xU0-xOCw_9l8",
        "outputId": "c327b4f6-c8f0-423d-fca2-25ab2c2213a4"
      },
      "id": "xU0-xOCw_9l8",
      "execution_count": null,
      "outputs": [
        {
          "output_type": "stream",
          "name": "stdout",
          "text": [
            "Insert 0 for Citation Graph and 1 for Collaboration Graph: 1\n",
            "(20756, 108195, 0.0005023088005736799, [0, 3403, 3782, 3048, 1993, 1412, 1083, 679, 672, 494, 359, 402, 342, 287, 152, 168, 178, 163, 171, 125, 74, 106, 87, 37, 88, 93, 68, 49, 52, 64, 9, 21, 40, 10, 132, 10, 28, 29, 4, 49, 5, 48, 49, 9, 15, 3, 22, 52, 2, 18, 4, 5, 7, 4, 32, 9, 1, 4, 2, 1, 23, 6, 2, 0, 1, 6, 6, 58, 1, 4, 0, 3, 2, 5, 4, 70, 2, 1, 1, 1, 1, 1, 2, 1, 2, 1, 4, 0, 2, 2, 1, 3, 1, 1, 0, 3, 1, 1, 1, 1, 0, 1, 1, 0, 0, 0, 1, 0, 1, 1, 2, 0, 0, 0, 0, 0, 0, 0, 0, 0, 0, 0, 0, 0, 0, 0, 0, 0, 1, 0, 0, 1, 0, 0, 1, 0, 0, 0, 0, 0, 0, 0, 0, 0, 0, 0, 0, 0, 0, 1, 0, 0, 0, 0, 0, 0, 0, 1, 0, 0, 0, 0, 0, 0, 0, 0, 1, 0, 1, 1, 0, 0, 0, 0, 0, 0, 0, 0, 0, 0, 0, 0, 0, 0, 0, 0, 0, 0, 0, 0, 0, 0, 0, 0, 0, 0, 0, 0, 0, 0, 0, 0, 0, 0, 0, 0, 0, 0, 0, 0, 0, 0, 0, 0, 0, 0, 0, 0, 0, 0, 0, 0, 0, 0, 0, 0, 0, 0, 0, 0, 0, 0, 0, 0, 0, 0, 0, 0, 0, 0, 0, 0, 0, 0, 0, 0, 0, 0, 0, 0, 0, 0, 0, 0, 0, 0, 0, 0, 0, 0, 249, 0, 0, 0, 0, 1, 2, 0, 2, 0, 0, 0, 2, 0, 0, 0, 1, 0, 1, 0, 0, 0, 0, 0, 2, 0, 0, 0, 0, 0, 0, 0, 0, 0, 0, 0, 0, 0, 0, 0, 0, 0, 0, 0, 0, 0, 0, 0, 0, 0, 0, 0, 0, 0, 0, 0, 0, 0, 0, 0, 0, 0, 0, 0, 0, 0, 0, 0, 0, 0, 0, 0, 0, 0, 0, 0, 0, 0, 0, 0, 0, 0, 0, 0, 0, 0, 0, 0, 0, 0, 0, 0, 0, 0, 0, 1], 10.425419155906726, ['Yoshua Bengio', 'Andrew Y. Ng', 'Jiawei Han', 'Ilya Sutskever', 'Nick McKeown', 'Koray Kavukcuoglu', 'Wei Li', 'Michael I. Jordan', 'Sebastian Thrun', 'Al Borchers', 'Bjoern H. Menze', 'Andras Jakab', 'Stefan Bauer', 'Jayashree Kalpathy-Cramer', 'Keyvan Farahani', 'Justin Kirby', 'Yuliya Burren', 'Nicole Porz', 'Johannes Slotboom', 'Roland Wiest', 'Levente Lanczi', 'Elizabeth Gerstner', 'Marc-Andre Weber', 'Tal Arbel', 'Brian B. Avants', 'Nicholas Ayache', 'Patricia Buendia', 'D. Louis Collins', 'Nicolas Cordier', 'Jason J. Corso', 'Antonio Criminisi', 'Tilak Das', 'Herve Delingette', 'Cagatay Demiralp', 'Christopher R. Durst', 'Michel Dojat', 'Senan Doyle', 'Joana Festa', 'Florence Forbes', 'Ezequiel Geremia', 'Ben Glocker', 'Polina Golland', 'Xiaotao Guo', 'Andac Hamamci', 'Khan M. Iftekharuddin', 'Raj Jena', 'Nigel M. John', 'Ender Konukoglu', 'Danial Lashkari', 'Jose Antonio Mariz', 'Raphael Meier', 'Sergio Pereira', 'Doina Precup', 'Stephen J. Price', 'Tammy Riklin Raviv', 'Syed M. S. Reza', 'Michael Ryan', 'Duygu Sarikaya', 'Lawrence Schwartz', 'Hoo-Chang Shin', 'Jamie Shotton', 'Carlos A. Silva', 'Nuno Sousa', 'Nagesh K. Subbanna', 'Gabor Szekely', 'Thomas J. Taylor', 'Owen M. Thomas', 'Nicholas J. Tustison', 'Gozde Unal', 'Flor Vasseur', 'Max Wintermark', 'Dong Hye Ye', 'Liang Zhao', 'Binsheng Zhao', 'Darko Zikic', 'Marcel Prastawa', 'Mauricio Reyes', 'Koen Van Leemput', 'Amin Vahdat', 'Ewan Birney', 'D. Estrin', 'Y. Chen', 'Scott Shenker', 'Anthony Mathelier', 'Boris Lenhard', 'Albin Sandelin', 'Wyeth W. Wasserman', 'Rajat Monga', 'Aron Marchler-Bauer', 'John B. Anderson', 'Carol DeWeese-Scott', 'Natalie D. Fedorova', 'Lewis Y. Geer', 'Siqian He', 'David I. Hurwitz', 'John D. Jackson', 'Christopher J. Lanczycki', 'Cynthia A. Liebert', 'Chunlei Liu', 'Gabriele H. Marchler', 'Raja Mazumder', 'Bachoti S. Rao', 'Benjamin A. Shoemaker', 'James S. Song', 'Paul A. Thiessen', 'Sona Vasudevan', 'Roxanne A. Yamashita', 'Jodie J. Yin', 'Stephen H. Bryant', 'Xiaobei Zhao', 'Deborah Estrin', 'Benjamin J. Blencowe', 'Brendan J. Frey', 'David Culler', 'John G. Tate', 'Robert D. Finn', 'Sam Griffiths-Jones', 'Sean R. Eddy', 'Alex Bateman', 'Jianguo Xia', 'David S. Wishart', 'Xin Li', 'Kim D. Pruitt', 'Tatiana A. Tatusova', 'Donna R. Maglott', 'Jeffrey Dean', 'Sanjay Ghemawat', 'Nick Psychogios', 'Nelson Young', 'Nicolas Hulo', 'Amos Bairoch', 'Lorenzo Cerutti', 'Edouard De Castro', 'Marco Pagni', 'Christian J. A. Sigrist', 'Bruce Fischl', 'Russell Greiner', 'Alistair R R Forest', 'Hideya Kawaji', 'Michael Rehli', 'J. Kenneth Baillie', 'Michiel J L De Hoon', 'Vanja Haberle', 'Timo Lassmann', 'Ivan V. Kulakovskiy', 'Marina Lizio', 'Masayoshi Itoh', 'Robin Andersson', 'Christopher J. Mungall', 'Terrence F. Meehan', 'Sebastian Schmeier', 'Nicolas Bertin', 'Mette Jørgensen', 'Emmanuel Dimont', 'Erik Arner', 'Christian Schmidl', 'Ulf Schaefer', 'Yulia A. Medvedeva', 'Charles Plessy', 'Morana Vitezic', 'Jessica Severin', 'Colin A. Semple', 'Yuri Ishizu', 'Robert S. Young', 'Margherita Francescatto', 'Intikhab Alam Altschuler', 'Davide Albanese', 'Gabriel M. Altschule', 'Takahiro Arakawa', 'John A C Archer', 'Peter Arner', 'Magda Babina', 'Sarah Rennie', 'Piotr J. Balwierz', 'Anthony G. Beckhouse', 'Swati Pradhan-Bhatt', 'Judith A. Blake', 'Antje Blumenthal', 'Beatrice Bodega', 'Alessandro Bonetti', 'James Briggs', 'Frank Brombacher', 'A. Maxwell Burroughs', 'Andrea Califano', 'Carlo V. Cannistraci', 'Daniel Carbajo', 'Yun Chen', 'Marco Chierici', 'Yari Ciani', 'Hans C. Clevers', 'Emiliano Dalla', 'Carrie A. Davis', 'Michael Detmar', 'Alexander D. Diehl', 'Taeko Dohi', 'Finn Drabløs', 'Albert S B Edge', 'Matthias Edinger', 'Karl Ekwall', 'Mitsuhiro Endoh', 'Hideki Enomoto', 'Michela Fagiolini', 'Lynsey Fairbairn', 'Hai Fang', 'Mary C. Farach-Carson', 'Geoffrey J. Faulkner', 'Alexander V. Favorov', 'Malcolm E. Fisher', 'Martin C. Frith', 'Rie Fujita', 'Shiro Fukuda', 'Cesare Furlanello', 'Masaaki Furuno', 'Jun Ichi Furusawa', 'Teunis B. Geijtenbeek', 'Andrew P. Gibson', 'Thomas Gingeras', 'Daniel Goldowitz', 'Julian Gough', 'Sven Guhl', 'Reto Guler', 'Stefano Gustincich', 'Thomas J. Ha', 'Masahide Hamaguchi', 'Mitsuko Hara', 'Matthias Harbers', 'Jayson Harshbarger', 'Akira Hasegawa', 'Yuki Hasegawa', 'Takehiro Hashimoto', 'Meenhard Herlyn', 'Kelly J. Hitchens', 'Shannan J Ho Sui', 'Oliver M. Hofmann', 'Ilka Hoof', 'Fumi Hori', 'Lukasz Huminiecki', 'Kei Iida', 'Tomokatsu Ikawa', 'Boris R. Jankovic', 'Hui Jia', 'Anagha Joshi', 'Giuseppe Jurman', 'Bogumil Kaczkowski', 'Chieko Kai', 'Kaoru Kaida', 'Ai Kaiho', 'Kazuhiro Kajiyama', 'Mutsumi Kanamori-Katayama', 'Artem S. Kasianov', 'Takeya Kasukawa', 'Shintaro Katayama', 'Sachi Kato', 'Shuji Kawaguchi', 'Hiroshi Kawamoto', 'Yuki I. Kawamura', 'Tsugumi Kawashima', 'Judith S. Kempfle', 'Tony J. Kenna', 'Juha Kere', 'Levon M. Khachigian', 'Toshio Kitamura', 'S. Peter Klinken', 'Alan J. Knox', 'Miki Kojima', 'Soichi Kojima', 'Naoto Kondo', 'Haruhiko Koseki', 'Shigeo Koyasu', 'Sarah Krampitz', 'Atsutaka Kubosaki', 'Andrew T. Kwon', 'Jeroen F J Laros', 'Weonju Lee', 'Andreas Lennartsson', 'Kang Li', 'Berit Lilje', 'Leonard Lipovich', 'Alan Mackay-sim', 'Ri Ichiroh Manabe', 'Jessica C. Mar', 'Benoit Marchand', 'Niklas Mejhert', 'Alison Meynert', 'Yosuke Mizuno', 'David A Lima De Morais', 'Hiromasa Morikawa', 'Mitsuru Morimoto', 'Kazuyo Moro', 'Efthymios Motakis', 'Hozumi Motohashi', 'Christine L. Mummery', 'Mitsuyoshi Murata', 'Sayaka Nagao-Sato', 'Yutaka Nakachi', 'Fumio Nakahara', 'Toshiyuki Nakamura', 'Yukio Nakamura', 'Kenichi Nakazato', 'Erik Van Nimwegen', 'Noriko Ninomiya', 'Hiromi Nishiyori', 'Shohei Noma', 'Tadasuke Nozaki', 'Soichi Ogishima', 'Naganari Ohkura', 'Hiroko Ohmiya', 'Hiroshi Ohno', 'Mitsuhiro Ohshima', 'Mariko Okada-Hatakeyama', 'Yasushi Okazaki', 'Valerio Orlando', 'Dmitry A. Ovchinnikov', 'Arnab Pain', 'Robert Passier', 'Margaret Patrikakis', 'Helena Persson', 'Silvano Piazza', 'James G D Prendergast', 'Owen J L Rackham', 'Jordan A. Ramilowski', 'Mamoon Rashid', 'Timothy Ravasi', 'Patrizia Rizzu', 'Marco Roncador', 'Sugata Roy', 'Morten B. Rye', 'Eri Saijyo', 'Antti Sajantila', 'Akiko Saka', 'Shimon Sakaguchi', 'Mizuho Sakai', 'Hiroki Sato', 'Hironori Satoh', 'Suzana Savvi', 'Alka Saxena', 'Claudio Schneider', 'Erik A. Schultes', 'Gundula G. Schulze-Tanzil', 'Anita Schwegmann', 'Thierry Sengstag', 'Guojun Sheng', 'Hisashi Shimoji', 'Yishai Shimoni', 'Jay W. Shin', 'Christophe Simon', 'Daisuke Sugiyama', 'Takaaki Sugiyama', 'Masanori Suzuki', 'Naoko Suzuki', 'Rolf K. Swoboda', \"Peter A C 'T Hoen\", 'Michihira Tagami', 'Naoko Takahashi Tagami', 'Jun Takai', 'Hiroshi Tanaka', 'Hideki Tatsukawa', 'Zuotian Tatum', 'Mark Thompson', 'Hiroo Toyoda', 'Tetsuro Toyoda', 'Eivind Valen', 'Marc Van De Wetering', 'Linda M. Van Den Berg', 'Roberto Verardo', 'Dipti Vijayan', 'Ilya E. Vorontsov', 'Shoko Watanabe', 'Christine A. Wells', 'Louise N. Winteringham', 'Ernst Wolvetang', 'Emily J. Wood', 'Yoko Yamaguchi', 'Masayuki Yamamoto', 'Misako Yoneda', 'Yohei Yonekura', 'Shigehiro Yoshida', 'Susan E. Zabierowski', 'Peter G. Zhang', 'Silvia Zucchelli', 'Kim M. Summers', 'Harukazu Suzuki', 'Carsten O. Daub', 'Jun Kawai', 'Peter Heutink', 'Winston Hide', 'Tom C. Freeman', 'Lenhard Vladimir B Bajic', 'Martin S. Taylor', 'Vsevolod J. Makeev', 'David A. Hume', 'Piero Carninci', 'Yoshihide Hayashizaki', 'Alice R. Wattam', 'Terry Disz', 'Robert Olson', 'Ross A. Overbeek', 'Gordon D. Pusch', 'Maulik Shukla', 'Veronika Vonstein', 'Antonio Fabregat', 'Phani Garapati', 'Marc Gillespie', 'Bijay Jassal', 'Lisa Matthews', 'Bruce May', 'Guanming Wu', 'Lincoln Stein', 'Henning Hermjakob', \"Peter D'Eustachio\", 'Hari Balakrishnan', 'James C. Corbett', 'Alexander Kanapin', 'Li Fei-Fei', 'S M Smith', 'David Patterson', 'Amos Marc Bairoch', 'Rolf Apweiler', 'Ivica Letunic', 'Peer Bork', 'Craig Knox', 'An Chi Guo', 'Dean Cheng', 'Savita Shrivastava', 'Dan Tzur', 'Bijaya Gautam', 'Emmanuel Courcelle', 'Schahram Dustdar', 'Yannick Djoumbou', 'Timothy Jewison', 'Anchi Guo', 'David Arndt', 'Vanessa Neveu', 'Kamil Ugurbil', 'Essa Yacoub', 'Huaiyu Mi', 'Paul D. Thomas', 'Stephen M. Smith', 'Richard Szeliski', 'Farideh Chitsaz', 'Myra K. Derbyshire', 'Renata C. Geer', 'Noreen R. Gonzales', 'Marc Gwadz', 'Zhaoxi Ke', 'Shennan Lu', 'Mikhail Mullokandov', 'Narmada Thanki', 'Dachuan Zhang', 'Naigong Zhang', 'Stephen H Bryant', 'Gianni Cesareni', 'Cynthia L. Robertson', 'Chanjuan Zheng', 'Garth R. Brown', 'Sandra Orchard', 'Mais Ammari', 'Bruno Aranda', 'Lionel Breuza', 'Leonardo Briganti', 'Fiona Broackes-Carter', 'Nancy H. Campbell', 'Gayatri Chavali', 'Carol Chen', 'Noemi del-Toro', 'Margaret Duesbury', 'Marine Dumousseau', 'Eugenia Galeota', 'Ursula Hinz', 'Marta Iannuccelli', 'Sruthi Jagannathan', 'Rafael Jimenez', 'Jyoti Khadake', 'Astrid Lagreid', 'Luana Licata', 'Ruth C. Lovering', 'Birgit Meldal', 'Anna N. Melidoni', 'Mila Milagros', 'Daniele Peluso', 'Livia Perfetto', 'Pablo Porras', 'Arathi Raghunath', 'Sylvie Ricard-Blum', 'Bernd Roechert', 'Andre Stutz', 'Michael Tognolli', 'Kim van Roey', 'Roman Eisner', 'David D. Hau', 'Edison Dong', 'Souhaila Bouatra', 'Rupasri Mandal', 'Igor Sinelnikov', 'Leslie Jia', 'Joseph A. Cruz', 'Emilia Lim', 'Constance A. Sobsey', 'Paul Huang', 'Philip Liu', 'Lydia Fang', 'Jun Peng', 'Ryan Fradette', 'Melisa Clements', 'Avalyn Lewis', 'Andrea De Souza', 'Azaret Zuniga', 'Margot Dawe', 'Yeping Xiong', 'Derrick Clive', 'Alsu Nazyrova', 'Rustem Shaykhutdinov', 'Liang Li', 'Hans J. Vogel', 'Ian J. Forsythe', 'Michael Montemerlo', 'Hendrik Dahlkamp', 'Scott Ettinger', 'David Stavens', 'David Haussler', 'Christian von Mering', 'Françoise Thibaud-Nissen', 'Hongzhan Huang', 'Cathy H. Wu', 'A. Agarwal', 'Ville Silventoinen', 'Nicola Harte', 'Nicola J. Mulder', 'Rodrigo Lopez', 'Fu Lu', 'X. Wu', 'J Andersson', 'Samuel Kerrien', 'Alan Bridge', 'Marc Feuermann', 'Sandra E. Orchard', 'Neil D. Rawlings', 'R.B. Myneni', 'Helen E. Parkinson', 'James Laudon', 'Philip Jones', 'David Binns', 'Hsin-Yu Chang', 'Matthew Fraser', 'Craig McAnulla', 'John Maslen', 'Alex L. Mitchell', 'Gift Nuka', 'Sebastien Pesseat', 'Antony F. Quinn', 'Amaia Sangrador-Vegas', 'Maxim Scheremetjew', 'Siew-Yit Yong', 'Sarah Hunter', 'Richard Durbin', 'J.W. Waters', 'L. Froidevaux', 'R.S. Harwood', 'R.F. Jarnot', 'H.M. Pickett', 'W.G. Read', 'P.H. Siegel', 'R.E. Cofield', 'M.J. Filipiak', 'D.A. Flower', 'J.R. Holden', 'G.K. Lau', 'N.J. Livesey', 'G.L. Manney', 'H.C. Pumphrey', 'M.L. Santee', 'D.L. Wu', 'D.T. Cuddy', 'R.R. Lay', 'M.S. Loo', 'V.S. Perun', 'M.J. Schwartz', 'P.C. Stek', 'R.P. Thurstans', 'M.A. Boyles', 'K.M. Chandra', 'M.C. Chavez', 'Gun-Shing Chen', 'B.V. Chudasama', 'R. Dodge', 'R.A. Fuller', 'M.A. Girard', 'J.H. Jiang', 'Yibo Jiang', 'B.W. Knosp', 'R.C. LaBelle', 'J.C. Lam', 'K.A. Lee', 'D. Miller', 'J.E. Oswald', 'N.C. Patel', 'D.M. Pukala', 'O. Quintero', 'D.M. Scaff', 'W. Van Snyder', 'M.C. Tope', 'P.A. Wagner', 'M.J. Walch', 'Debashish Ray', 'Hilal Kazan', 'Kate B. Cook', 'Matthew T. Weirauch', 'Hamed S. Najafabadi', 'Xiao Li', 'Serge Gueroussov', 'Mihai Albu', 'Hong Zheng', 'Ally Yang', 'Hong Na', 'Manuel Irimia', 'Leah H. Matzat', 'Ryan K. Dale', 'Sarah A. Smith', 'Christopher A. Yarosh', 'Seth M. Kelly', 'Behnam Nabet', 'Desirea Mecenas', 'Weimin Li', 'Rakesh S. Laishram', 'Mei Qiao', 'Howard D. Lipshitz', 'Fabio Piano', 'Anita H. Corbett', 'Russ P. Carstens', 'Richard A. Anderson', 'Kristen W. Lynch', 'Luiz O. F. Penalva', 'Elissa P. Lei', 'Andrew G. Fraser', 'Quaid D. Morris', 'Timothy R. Hughes', 'Ioannis Xenarios', 'Alex Mitchell', 'Teresa K. Attwood', 'Thomas Bernard', 'Sarah Burge', 'Penny Coggill', 'Matthew Corbett', 'Ujjwal Das', 'Louise Daugherty', 'Lauranne Duquenne', 'Daniel Haft', 'Daniel Kahn', 'Elizabeth Kelly', 'David Lonsdale', 'Martin Madera', 'Jennifer McDowall', 'Conor McMenamin', 'Prudence Mutowo-Muellenet', 'Nicola Mulder', 'Darren Natale', 'Christine Orengo', 'Marco Punta', 'Catherine Rivoire', 'Jeremy D. Selengut', 'Christian J A Sigrist', 'John Tate', 'Manjulapramila Thimmajanarthanan', 'Corin Yeats', 'Siew Yit Yong', 'Nicola J Mulder', 'Teresa K Attwood', 'Daniel Barrell', 'Margaret Biswas', 'Paul Bradley', 'Phillip Bucher', 'Richard R Copley', 'Laurent Falquet', 'Wolfgang Fleischmann', 'Maria Krestyaninova', 'Sandra E Orchard', 'David Peyruc', 'Chris P Ponting', 'Jeremy D Selengut', 'Florence Servant', 'Robert Vaughan', 'Evgeny Zdobnov', 'Donna Karolchik', 'W. James Kent', 'Daniel H. Haft', 'Norman P. Jouppi', 'Tanya Z. Berardini', 'Margarita Garcia-Hernandez', 'Eva Huala', 'Lukas A. Mueller', 'Peifen Zhang', 'Aurélie Laugraud', 'Jaina Mistry', 'Darren A. Natale', 'Christine A. Orengo', 'Manjula Thimma', 'Franck Valentin', 'Derek Wilson', 'Chris Urmson', 'Joshua Anhalt', 'Drew Bagnell', 'Christopher Baker', 'Robert Bittner', 'M. N. Clark', 'John Dolan', 'Dave Duggins', 'Tugrul Galatali', 'Chris Geyer', 'Michele Gittleman', 'Sam Harbaugh', 'Martial Hebert', 'Thomas M. Howard', 'Sascha Kolski', 'Alonzo Kelly', 'Maxim Likhachev', 'Matt McNaughton', 'Nick Miller', 'Kevin Peterson', 'Brian Pilnick', 'Raj Rajkumar', 'Paul Rybski', 'Bryan Salesky', 'Young-Woo Seo', 'Sanjiv Singh', 'Jarrod Snider', 'Anthony Stentz', 'William “Red” Whittaker', 'Ziv Wolkowicki', 'Jason Ziglar', 'Hong Bae', 'Thomas Brown', 'Daniel Demitrish', 'Bakhtiar Litkouhi', 'Jim Nickolaou', 'Varsha Sadekar', 'Wende Zhang', 'Joshua Struble', 'Michael Taylor', 'Michael Darms', 'Dave Ferguson', 'Elisabeth Gasteiger', 'Pauline A. Fujita', 'Ann S. Zweig', 'Angie S. Hinrichs', 'Galt P. Barber', 'Hiram Clawson', 'Mark Diekhans', 'Timothy R. Dreszer', 'Rachel A. Harte', 'Jennifer Hillman-Jackson', 'Robert M. Kuhn', 'Katrina Learned', 'Chin H. Li', 'Brian J. Raney', 'Kate R. Rosenbloom', 'Christian Sigrist', 'T. Hubbard', 'D. Barker', 'E. Birney', 'G. Cameron', 'L. Clark', 'T. Cox', 'J. Cuff', 'V. Curwen', 'T. Down', 'R. Durbin', 'E. Eyras', 'J. Gilbert', 'M. Hammond', 'L. Huminiecki', 'A. Kasprzyk', 'H. Lehvaslaiho', 'P. Lijnzaad', 'C. Melsopp', 'E. Mongin', 'R. Pettett', 'M. Pocock', 'S. Potter', 'A. Rust', 'E. Schmidt', 'S. Searle', 'G. Slater', 'J. Smith', 'W. Spooner', 'A. Stabenau', 'J. Stalker', 'E. Stupka', 'A. Ureta-Vidal', 'I. Vastrik', 'M. Clamp', 'Paul Barham', 'B. R. Brooks', 'C. L. Brooks', 'A. D. Mackerell', 'L. Nilsson', 'R. J. Petrella', 'B. Roux', 'Y. Won', 'G. Archontis', 'C. Bartels', 'S. Boresch', 'A. Caflisch', 'L. Caves', 'Q. Cui', 'A. R. Dinner', 'M. Feig', 'S. Fischer', 'Jiali Gao', 'M. Hodoscek', 'W. Im', 'K. Kuczera', 'T. Lazaridis', 'J. Ma', 'V. Ovchinnikov', 'E. Paci', 'R. W. Pastor', 'C. B. Post', 'J. Z. Pu', 'M. Schaefer', 'B. Tidor', 'R. M. Venable', 'H. L. Woodcock', 'W. Yang', 'D. M. York', 'M. Karplus', 'Alexander Astashyn', 'Olga D. Ermolaeva', 'Catherine M. Farrell', 'Jennifer Hart', 'Melissa J. Landrum', 'Kelly M. McGarvey', 'Michael R. Murphy', \"Nuala A. O'Leary\", 'Shashikant Pujar', 'Bhanu Rajput', 'Sanjida H. Rangwala', 'Lillian D. Riddick', 'Andrei Shkeda', 'Hanzhen Sun', 'Raymond E. Tully', 'Craig Wallin', 'David Webb', 'Wendy Wu', 'Michael DiCuccio', 'Paul A. Kitts', 'Terence D. Murphy', 'Dan Steinberg', 'David Silver', 'Ioannis Antonoglou', 'Demis Hassabis', 'Silvano Squizzato', 'Nicole Redaschi', 'M. Hucka', 'A. Finney', 'H. M. Sauro', 'H. Bolouri', 'J. C. Doyle', 'H. Kitano', 'A. P. Arkin', 'B. J. Bornstein', 'D. Bray', 'A. Cornish-Bowden', 'A. A. Cuellar', 'S. Dronov', 'E. D. Gilles', 'Martin Ginkel', 'V. Gor', 'I. I. Goryanin', 'W. J. Hedley', 'T. C. Hodgman', 'J. H. Hofmeyr', 'P. J. Hunter', 'N. S. Juty', 'J. L. Kasberger', 'A. Kremling', 'U. Kummer', 'N. Le Novere', 'L. M. Loew', 'D. Lucio', 'P. Mendes', 'E. Minch', 'E. D. Mjolsness', 'Y. Nakayama', 'M. R. Nelson', 'P. F. Nielsen', 'T. Sakurada', 'J. C. Schaff', 'B. E. Shapiro', 'T. S. Shimizu', 'H. D. Spence', 'J. Stelling', 'K. Takahashi', 'M. Tomita', 'J. Wagner', 'J. Wang', 'Claudia Rato', 'Dominique Guyot', 'Matt E. Oates', 'Ian Sillitoe', 'Kevin Jewell', 'David L. Arndt', 'Summit Sawhney', 'Chris Fung', 'Lisa Nikolai', 'Mike Lewis', 'Marie-Aude Coutouly', 'Ian D. Forsythe', 'Peter Tang', 'Kevin Jeroncic', 'Paul Stothard', 'Godwin Amegbey', 'David Block', 'James Wagner', 'Jessica Miniaci', 'Mulu Gebremedhin', 'Natalie Guo', 'Ying Wen Zhang', 'Gavin E. Duggan', 'Glen D. MacInnis', 'Alim M. Weljie', 'Reza Dowlatabadi', 'Fiona Bamforth', 'Russ Greiner', 'Tom Marrie', 'Brian D. Sykes', 'Lori Querengesser', 'Thomas M. Oinn', 'Mathew W. Wright', 'J. Rodney Brister', 'Stacy Ciufo', 'Diana Haddad', 'Richard McVeigh', 'Barbara Robbertse', 'Brian Smith-White', 'Danso Ako-Adjei', 'Azat Badretdin', 'Yiming Bao', 'Olga Blinkova', 'Vyacheslav Brover', 'Vyacheslav Chetvernin', 'Jinna Choi', 'Eric Cox', 'Tamara Goldfarb', 'Tripti Gupta', 'Eneida Hatcher', 'Wratko Hlavina', 'Vinita S. Joardar', 'Vamsi K. Kodali', 'Wenjun Li', 'Patrick Masterson', \"Kathleen O'Neill\", 'Daniel Rausch', 'Conrad L. Schoch', 'Susan S. Storz', 'Igor Tolstoy', 'Anjana R. Vatsan', 'Avi Kimchi', 'Simon C. Potter', 'Vijay Vasudevan', 'Patricia C. Babbitt', 'Alan J. Bridge', 'Hsin Yu Chang', 'Zsuzsanna Dosztanyi', 'Sara El-Gebali', 'David Haft', 'Gemma L. Holliday', 'Xiaosong Huang', 'Marco Necci', 'Youngmi Park', 'Damiano Piovesan', 'Lorna Richardson', 'Ben Smithers', 'Granger Sutton', 'Silvio C.E. Tosatto', 'Lai Su Yeh', 'Siew Yit Young', 'Cliff Young', 'Nishant Patil', 'Gaurav Agrawal', 'Raminder Bajwa', 'Sarah Bates', 'Suresh Bhatia', 'Nan Boden', 'Rick Boyle', 'Pierre-luc Cantin', 'Clifford Chao', 'Chris Clark', 'Jeremy Coriell', 'Mike Daley', 'Matt Dau', 'Ben Gelb', 'Tara Vazir Ghaemmaghami', 'Rajendra Gottipati', 'William Gulland', 'Robert Hagmann', 'C. Richard Ho', 'Doug Hogberg', 'John Hu', 'Robert Hundt', 'Dan Hurt', 'Julian Ibarz', 'Aaron Jaffey', 'Alek Jaworski', 'Alexander Kaplan', 'Harshit Khaitan', 'Daniel Killebrew', 'Andy Koch', 'Naveen Kumar', 'Steve Lacy', 'James Law', 'Diemthu Le', 'Chris Leary', 'Zhuyuan Liu', 'Kyle Lucke', 'Alan Lundin', 'Gordon MacKean', 'Adriana Maggiore', 'Maire Mahony', 'Kieran Miller', 'Rahul Nagarajan', 'Ravi Narayanaswami', 'Ray Ni', 'Kathy Nix', 'Thomas Norrie', 'Mark Omernick', 'Narayana Penukonda', 'Andy Phelps', 'Jonathan Ross', 'Matt Ross', 'Amir Salek', 'Emad Samadiani', 'Chris Severn', 'Gregory Sizikov', 'Matthew Snelham', 'Jed Souter', 'Andy Swing', 'Mercedes Tan', 'Gregory Thorson', 'Bo Tian', 'Horia Toma', 'Erick Tuttle', 'Richard Walter', 'Walter Wang', 'Eric Wilcox', 'Doe Hyun Yoon'], False)\n"
          ]
        }
      ]
    },
    {
      "cell_type": "code",
      "source": [
        "name = int(input('Insert 0 for Citation Graph and 1 for Collaboration Graph: '))\n",
        "\n",
        "if name == 0:\n",
        "  nodes_n,edge_n,density,degree_dist,degree_avg,hub,is_dense = graph_features(citation_graph,'citation')\n",
        "else:\n",
        "  collab_features = graph_features(collaboration_graph,'collaboration')"
      ],
      "metadata": {
        "id": "B9-yNveT7nf_",
        "colab": {
          "base_uri": "https://localhost:8080/"
        },
        "outputId": "33fb3d59-2652-44f6-a303-c1833dfeb584"
      },
      "id": "B9-yNveT7nf_",
      "execution_count": null,
      "outputs": [
        {
          "name": "stdout",
          "output_type": "stream",
          "text": [
            "Insert 0 for Citation Graph and 1 for Collaboration Graph: 0\n"
          ]
        }
      ]
    },
    {
      "cell_type": "markdown",
      "source": [
        "### Functionality 2 - Nodes' contribution"
      ],
      "metadata": {
        "id": "ptlO9CLlIhXX"
      },
      "id": "ptlO9CLlIhXX"
    },
    {
      "cell_type": "markdown",
      "source": [
        "To comment"
      ],
      "metadata": {
        "id": "ShNgCjKYM-DG"
      },
      "id": "ShNgCjKYM-DG"
    },
    {
      "cell_type": "code",
      "source": [
        "def nodes_contribution(graph,node,graph_name):\n",
        "  btwn = nx.betweenness_centrality_subset(graph,[node],graph.nodes())\n",
        "  pr = nx.pagerank(graph,personalization={node: 1.0})\n",
        "  clsn = nx.closeness_centrality(graph,u=node)\n",
        "  dc = nx.degree_centrality(graph)[node]\n",
        "  return btwn,pr,clsn,dc\n",
        "node_test = 2238402354\n",
        "if int(input('Insert 0 for Citation Graph and 1 for Collaboration Graph: ')) == 0:\n",
        "  cit_contribution = nodes_contribution(citation_graph,node_test,'citation')\n",
        "else:\n",
        "  collab_contribution = nodes_contribution(collaboration_graph,'collaboration')"
      ],
      "metadata": {
        "id": "oWAxSP02IoQS",
        "colab": {
          "base_uri": "https://localhost:8080/",
          "height": 407
        },
        "outputId": "ef102d4b-c8f2-4e0e-dc47-70a827c741ca"
      },
      "id": "oWAxSP02IoQS",
      "execution_count": null,
      "outputs": [
        {
          "name": "stdout",
          "output_type": "stream",
          "text": [
            "Insert 0 for Citation Graph and 1 for Collaboration Graph: 0\n"
          ]
        },
        {
          "output_type": "error",
          "ename": "KeyError",
          "evalue": "ignored",
          "traceback": [
            "\u001b[0;31m---------------------------------------------------------------------------\u001b[0m",
            "\u001b[0;31mKeyError\u001b[0m                                  Traceback (most recent call last)",
            "\u001b[0;32m<ipython-input-10-b304b1a0abca>\u001b[0m in \u001b[0;36m<cell line: 8>\u001b[0;34m()\u001b[0m\n\u001b[1;32m      7\u001b[0m \u001b[0mnode_test\u001b[0m \u001b[0;34m=\u001b[0m \u001b[0;36m2238402354\u001b[0m\u001b[0;34m\u001b[0m\u001b[0;34m\u001b[0m\u001b[0m\n\u001b[1;32m      8\u001b[0m \u001b[0;32mif\u001b[0m \u001b[0mint\u001b[0m\u001b[0;34m(\u001b[0m\u001b[0minput\u001b[0m\u001b[0;34m(\u001b[0m\u001b[0;34m'Insert 0 for Citation Graph and 1 for Collaboration Graph: '\u001b[0m\u001b[0;34m)\u001b[0m\u001b[0;34m)\u001b[0m \u001b[0;34m==\u001b[0m \u001b[0;36m0\u001b[0m\u001b[0;34m:\u001b[0m\u001b[0;34m\u001b[0m\u001b[0;34m\u001b[0m\u001b[0m\n\u001b[0;32m----> 9\u001b[0;31m   \u001b[0mcit_contribution\u001b[0m \u001b[0;34m=\u001b[0m \u001b[0mnodes_contribution\u001b[0m\u001b[0;34m(\u001b[0m\u001b[0mcitation_subgraph\u001b[0m\u001b[0;34m,\u001b[0m\u001b[0mnode_test\u001b[0m\u001b[0;34m,\u001b[0m\u001b[0;34m'citation'\u001b[0m\u001b[0;34m)\u001b[0m\u001b[0;34m\u001b[0m\u001b[0;34m\u001b[0m\u001b[0m\n\u001b[0m\u001b[1;32m     10\u001b[0m \u001b[0;32melse\u001b[0m\u001b[0;34m:\u001b[0m\u001b[0;34m\u001b[0m\u001b[0;34m\u001b[0m\u001b[0m\n\u001b[1;32m     11\u001b[0m   \u001b[0mcollab_contribution\u001b[0m \u001b[0;34m=\u001b[0m \u001b[0mnodes_contribution\u001b[0m\u001b[0;34m(\u001b[0m\u001b[0mcollaboration_subgraph\u001b[0m\u001b[0;34m,\u001b[0m\u001b[0;34m'collaboration'\u001b[0m\u001b[0;34m)\u001b[0m\u001b[0;34m\u001b[0m\u001b[0;34m\u001b[0m\u001b[0m\n",
            "\u001b[0;32m<ipython-input-10-b304b1a0abca>\u001b[0m in \u001b[0;36mnodes_contribution\u001b[0;34m(graph, node, graph_name)\u001b[0m\n\u001b[1;32m      1\u001b[0m \u001b[0;32mdef\u001b[0m \u001b[0mnodes_contribution\u001b[0m\u001b[0;34m(\u001b[0m\u001b[0mgraph\u001b[0m\u001b[0;34m,\u001b[0m\u001b[0mnode\u001b[0m\u001b[0;34m,\u001b[0m\u001b[0mgraph_name\u001b[0m\u001b[0;34m)\u001b[0m\u001b[0;34m:\u001b[0m\u001b[0;34m\u001b[0m\u001b[0;34m\u001b[0m\u001b[0m\n\u001b[0;32m----> 2\u001b[0;31m   \u001b[0mbtwn\u001b[0m \u001b[0;34m=\u001b[0m \u001b[0mnx\u001b[0m\u001b[0;34m.\u001b[0m\u001b[0mbetweenness_centrality_subset\u001b[0m\u001b[0;34m(\u001b[0m\u001b[0mgraph\u001b[0m\u001b[0;34m,\u001b[0m\u001b[0;34m[\u001b[0m\u001b[0mnode\u001b[0m\u001b[0;34m]\u001b[0m\u001b[0;34m,\u001b[0m\u001b[0mgraph\u001b[0m\u001b[0;34m.\u001b[0m\u001b[0mnodes\u001b[0m\u001b[0;34m(\u001b[0m\u001b[0;34m)\u001b[0m\u001b[0;34m)\u001b[0m\u001b[0;34m\u001b[0m\u001b[0;34m\u001b[0m\u001b[0m\n\u001b[0m\u001b[1;32m      3\u001b[0m   \u001b[0mpr\u001b[0m \u001b[0;34m=\u001b[0m \u001b[0mnx\u001b[0m\u001b[0;34m.\u001b[0m\u001b[0mpagerank\u001b[0m\u001b[0;34m(\u001b[0m\u001b[0mgraph\u001b[0m\u001b[0;34m,\u001b[0m\u001b[0mpersonalization\u001b[0m\u001b[0;34m=\u001b[0m\u001b[0;34m{\u001b[0m\u001b[0mnode\u001b[0m\u001b[0;34m:\u001b[0m \u001b[0;36m1.0\u001b[0m\u001b[0;34m}\u001b[0m\u001b[0;34m)\u001b[0m\u001b[0;34m\u001b[0m\u001b[0;34m\u001b[0m\u001b[0m\n\u001b[1;32m      4\u001b[0m   \u001b[0mclsn\u001b[0m \u001b[0;34m=\u001b[0m \u001b[0mnx\u001b[0m\u001b[0;34m.\u001b[0m\u001b[0mcloseness_centrality\u001b[0m\u001b[0;34m(\u001b[0m\u001b[0mgraph\u001b[0m\u001b[0;34m,\u001b[0m\u001b[0mu\u001b[0m\u001b[0;34m=\u001b[0m\u001b[0mnode\u001b[0m\u001b[0;34m)\u001b[0m\u001b[0;34m\u001b[0m\u001b[0;34m\u001b[0m\u001b[0m\n\u001b[1;32m      5\u001b[0m   \u001b[0mdc\u001b[0m \u001b[0;34m=\u001b[0m \u001b[0mnx\u001b[0m\u001b[0;34m.\u001b[0m\u001b[0mdegree_centrality\u001b[0m\u001b[0;34m(\u001b[0m\u001b[0mgraph\u001b[0m\u001b[0;34m)\u001b[0m\u001b[0;34m[\u001b[0m\u001b[0mnode\u001b[0m\u001b[0;34m]\u001b[0m\u001b[0;34m\u001b[0m\u001b[0;34m\u001b[0m\u001b[0m\n",
            "\u001b[0;32m/usr/local/lib/python3.10/dist-packages/networkx/utils/backends.py\u001b[0m in \u001b[0;36m__call__\u001b[0;34m(self, backend, *args, **kwargs)\u001b[0m\n\u001b[1;32m    410\u001b[0m         \u001b[0;32mif\u001b[0m \u001b[0;32mnot\u001b[0m \u001b[0mbackends\u001b[0m\u001b[0;34m:\u001b[0m\u001b[0;34m\u001b[0m\u001b[0;34m\u001b[0m\u001b[0m\n\u001b[1;32m    411\u001b[0m             \u001b[0;31m# Fast path if no backends are installed\u001b[0m\u001b[0;34m\u001b[0m\u001b[0;34m\u001b[0m\u001b[0m\n\u001b[0;32m--> 412\u001b[0;31m             \u001b[0;32mreturn\u001b[0m \u001b[0mself\u001b[0m\u001b[0;34m.\u001b[0m\u001b[0morig_func\u001b[0m\u001b[0;34m(\u001b[0m\u001b[0;34m*\u001b[0m\u001b[0margs\u001b[0m\u001b[0;34m,\u001b[0m \u001b[0;34m**\u001b[0m\u001b[0mkwargs\u001b[0m\u001b[0;34m)\u001b[0m\u001b[0;34m\u001b[0m\u001b[0;34m\u001b[0m\u001b[0m\n\u001b[0m\u001b[1;32m    413\u001b[0m \u001b[0;34m\u001b[0m\u001b[0m\n\u001b[1;32m    414\u001b[0m         \u001b[0;31m# Use `backend_name` in this function instead of `backend`\u001b[0m\u001b[0;34m\u001b[0m\u001b[0;34m\u001b[0m\u001b[0m\n",
            "\u001b[0;32m/usr/local/lib/python3.10/dist-packages/networkx/algorithms/centrality/betweenness_subset.py\u001b[0m in \u001b[0;36mbetweenness_centrality_subset\u001b[0;34m(G, sources, targets, normalized, weight)\u001b[0m\n\u001b[1;32m    107\u001b[0m         \u001b[0;31m# single source shortest paths\u001b[0m\u001b[0;34m\u001b[0m\u001b[0;34m\u001b[0m\u001b[0m\n\u001b[1;32m    108\u001b[0m         \u001b[0;32mif\u001b[0m \u001b[0mweight\u001b[0m \u001b[0;32mis\u001b[0m \u001b[0;32mNone\u001b[0m\u001b[0;34m:\u001b[0m  \u001b[0;31m# use BFS\u001b[0m\u001b[0;34m\u001b[0m\u001b[0;34m\u001b[0m\u001b[0m\n\u001b[0;32m--> 109\u001b[0;31m             \u001b[0mS\u001b[0m\u001b[0;34m,\u001b[0m \u001b[0mP\u001b[0m\u001b[0;34m,\u001b[0m \u001b[0msigma\u001b[0m\u001b[0;34m,\u001b[0m \u001b[0m_\u001b[0m \u001b[0;34m=\u001b[0m \u001b[0mshortest_path\u001b[0m\u001b[0;34m(\u001b[0m\u001b[0mG\u001b[0m\u001b[0;34m,\u001b[0m \u001b[0ms\u001b[0m\u001b[0;34m)\u001b[0m\u001b[0;34m\u001b[0m\u001b[0;34m\u001b[0m\u001b[0m\n\u001b[0m\u001b[1;32m    110\u001b[0m         \u001b[0;32melse\u001b[0m\u001b[0;34m:\u001b[0m  \u001b[0;31m# use Dijkstra's algorithm\u001b[0m\u001b[0;34m\u001b[0m\u001b[0;34m\u001b[0m\u001b[0m\n\u001b[1;32m    111\u001b[0m             \u001b[0mS\u001b[0m\u001b[0;34m,\u001b[0m \u001b[0mP\u001b[0m\u001b[0;34m,\u001b[0m \u001b[0msigma\u001b[0m\u001b[0;34m,\u001b[0m \u001b[0m_\u001b[0m \u001b[0;34m=\u001b[0m \u001b[0mdijkstra\u001b[0m\u001b[0;34m(\u001b[0m\u001b[0mG\u001b[0m\u001b[0;34m,\u001b[0m \u001b[0ms\u001b[0m\u001b[0;34m,\u001b[0m \u001b[0mweight\u001b[0m\u001b[0;34m)\u001b[0m\u001b[0;34m\u001b[0m\u001b[0;34m\u001b[0m\u001b[0m\n",
            "\u001b[0;32m/usr/local/lib/python3.10/dist-packages/networkx/algorithms/centrality/betweenness.py\u001b[0m in \u001b[0;36m_single_source_shortest_path_basic\u001b[0;34m(G, s)\u001b[0m\n\u001b[1;32m    268\u001b[0m         \u001b[0mDv\u001b[0m \u001b[0;34m=\u001b[0m \u001b[0mD\u001b[0m\u001b[0;34m[\u001b[0m\u001b[0mv\u001b[0m\u001b[0;34m]\u001b[0m\u001b[0;34m\u001b[0m\u001b[0;34m\u001b[0m\u001b[0m\n\u001b[1;32m    269\u001b[0m         \u001b[0msigmav\u001b[0m \u001b[0;34m=\u001b[0m \u001b[0msigma\u001b[0m\u001b[0;34m[\u001b[0m\u001b[0mv\u001b[0m\u001b[0;34m]\u001b[0m\u001b[0;34m\u001b[0m\u001b[0;34m\u001b[0m\u001b[0m\n\u001b[0;32m--> 270\u001b[0;31m         \u001b[0;32mfor\u001b[0m \u001b[0mw\u001b[0m \u001b[0;32min\u001b[0m \u001b[0mG\u001b[0m\u001b[0;34m[\u001b[0m\u001b[0mv\u001b[0m\u001b[0;34m]\u001b[0m\u001b[0;34m:\u001b[0m\u001b[0;34m\u001b[0m\u001b[0;34m\u001b[0m\u001b[0m\n\u001b[0m\u001b[1;32m    271\u001b[0m             \u001b[0;32mif\u001b[0m \u001b[0mw\u001b[0m \u001b[0;32mnot\u001b[0m \u001b[0;32min\u001b[0m \u001b[0mD\u001b[0m\u001b[0;34m:\u001b[0m\u001b[0;34m\u001b[0m\u001b[0;34m\u001b[0m\u001b[0m\n\u001b[1;32m    272\u001b[0m                 \u001b[0mQ\u001b[0m\u001b[0;34m.\u001b[0m\u001b[0mappend\u001b[0m\u001b[0;34m(\u001b[0m\u001b[0mw\u001b[0m\u001b[0;34m)\u001b[0m\u001b[0;34m\u001b[0m\u001b[0;34m\u001b[0m\u001b[0m\n",
            "\u001b[0;32m/usr/local/lib/python3.10/dist-packages/networkx/classes/graph.py\u001b[0m in \u001b[0;36m__getitem__\u001b[0;34m(self, n)\u001b[0m\n\u001b[1;32m    511\u001b[0m         \u001b[0mAtlasView\u001b[0m\u001b[0;34m(\u001b[0m\u001b[0;34m{\u001b[0m\u001b[0;36m1\u001b[0m\u001b[0;34m:\u001b[0m \u001b[0;34m{\u001b[0m\u001b[0;34m}\u001b[0m\u001b[0;34m}\u001b[0m\u001b[0;34m)\u001b[0m\u001b[0;34m\u001b[0m\u001b[0;34m\u001b[0m\u001b[0m\n\u001b[1;32m    512\u001b[0m         \"\"\"\n\u001b[0;32m--> 513\u001b[0;31m         \u001b[0;32mreturn\u001b[0m \u001b[0mself\u001b[0m\u001b[0;34m.\u001b[0m\u001b[0madj\u001b[0m\u001b[0;34m[\u001b[0m\u001b[0mn\u001b[0m\u001b[0;34m]\u001b[0m\u001b[0;34m\u001b[0m\u001b[0;34m\u001b[0m\u001b[0m\n\u001b[0m\u001b[1;32m    514\u001b[0m \u001b[0;34m\u001b[0m\u001b[0m\n\u001b[1;32m    515\u001b[0m     \u001b[0;32mdef\u001b[0m \u001b[0madd_node\u001b[0m\u001b[0;34m(\u001b[0m\u001b[0mself\u001b[0m\u001b[0;34m,\u001b[0m \u001b[0mnode_for_adding\u001b[0m\u001b[0;34m,\u001b[0m \u001b[0;34m**\u001b[0m\u001b[0mattr\u001b[0m\u001b[0;34m)\u001b[0m\u001b[0;34m:\u001b[0m\u001b[0;34m\u001b[0m\u001b[0;34m\u001b[0m\u001b[0m\n",
            "\u001b[0;32m/usr/local/lib/python3.10/dist-packages/networkx/classes/coreviews.py\u001b[0m in \u001b[0;36m__getitem__\u001b[0;34m(self, name)\u001b[0m\n\u001b[1;32m     79\u001b[0m \u001b[0;34m\u001b[0m\u001b[0m\n\u001b[1;32m     80\u001b[0m     \u001b[0;32mdef\u001b[0m \u001b[0m__getitem__\u001b[0m\u001b[0;34m(\u001b[0m\u001b[0mself\u001b[0m\u001b[0;34m,\u001b[0m \u001b[0mname\u001b[0m\u001b[0;34m)\u001b[0m\u001b[0;34m:\u001b[0m\u001b[0;34m\u001b[0m\u001b[0;34m\u001b[0m\u001b[0m\n\u001b[0;32m---> 81\u001b[0;31m         \u001b[0;32mreturn\u001b[0m \u001b[0mAtlasView\u001b[0m\u001b[0;34m(\u001b[0m\u001b[0mself\u001b[0m\u001b[0;34m.\u001b[0m\u001b[0m_atlas\u001b[0m\u001b[0;34m[\u001b[0m\u001b[0mname\u001b[0m\u001b[0;34m]\u001b[0m\u001b[0;34m)\u001b[0m\u001b[0;34m\u001b[0m\u001b[0;34m\u001b[0m\u001b[0m\n\u001b[0m\u001b[1;32m     82\u001b[0m \u001b[0;34m\u001b[0m\u001b[0m\n\u001b[1;32m     83\u001b[0m     \u001b[0;32mdef\u001b[0m \u001b[0mcopy\u001b[0m\u001b[0;34m(\u001b[0m\u001b[0mself\u001b[0m\u001b[0;34m)\u001b[0m\u001b[0;34m:\u001b[0m\u001b[0;34m\u001b[0m\u001b[0;34m\u001b[0m\u001b[0m\n",
            "\u001b[0;32m/usr/local/lib/python3.10/dist-packages/networkx/classes/coreviews.py\u001b[0m in \u001b[0;36m__getitem__\u001b[0;34m(self, node)\u001b[0m\n\u001b[1;32m    318\u001b[0m \u001b[0;34m\u001b[0m\u001b[0m\n\u001b[1;32m    319\u001b[0m             \u001b[0;32mreturn\u001b[0m \u001b[0mFilterAtlas\u001b[0m\u001b[0;34m(\u001b[0m\u001b[0mself\u001b[0m\u001b[0;34m.\u001b[0m\u001b[0m_atlas\u001b[0m\u001b[0;34m[\u001b[0m\u001b[0mnode\u001b[0m\u001b[0;34m]\u001b[0m\u001b[0;34m,\u001b[0m \u001b[0mnew_node_ok\u001b[0m\u001b[0;34m)\u001b[0m\u001b[0;34m\u001b[0m\u001b[0;34m\u001b[0m\u001b[0m\n\u001b[0;32m--> 320\u001b[0;31m         \u001b[0;32mraise\u001b[0m \u001b[0mKeyError\u001b[0m\u001b[0;34m(\u001b[0m\u001b[0;34mf\"Key {node} not found\"\u001b[0m\u001b[0;34m)\u001b[0m\u001b[0;34m\u001b[0m\u001b[0;34m\u001b[0m\u001b[0m\n\u001b[0m\u001b[1;32m    321\u001b[0m \u001b[0;34m\u001b[0m\u001b[0m\n\u001b[1;32m    322\u001b[0m     \u001b[0;32mdef\u001b[0m \u001b[0m__str__\u001b[0m\u001b[0;34m(\u001b[0m\u001b[0mself\u001b[0m\u001b[0;34m)\u001b[0m\u001b[0;34m:\u001b[0m\u001b[0;34m\u001b[0m\u001b[0;34m\u001b[0m\u001b[0m\n",
            "\u001b[0;31mKeyError\u001b[0m: 'Key 2238402354 not found'"
          ]
        }
      ]
    },
    {
      "cell_type": "markdown",
      "source": [
        "### Functionality 3 - Shortest ordered walk"
      ],
      "metadata": {
        "id": "KSLMFqg_M2nG"
      },
      "id": "KSLMFqg_M2nG"
    },
    {
      "cell_type": "markdown",
      "source": [
        "Since we have to consider the top N authors starting from the collaboration graphs, we consider the top authors based on the number of edges (hence, the degree of the node)."
      ],
      "metadata": {
        "id": "QMwoW9fYM8dm"
      },
      "id": "QMwoW9fYM8dm"
    },
    {
      "cell_type": "code",
      "source": [
        "def dijkstra(graph, start, end):\n",
        "    distances = {node: float('inf') for node in graph.nodes}\n",
        "    distances[start] = 0\n",
        "    priority_queue = [(0, start)]\n",
        "    previous = {node: None for node in graph.nodes}\n",
        "\n",
        "    while priority_queue:\n",
        "        current_distance, current_node = heapq.heappop(priority_queue)\n",
        "\n",
        "        if current_distance > distances[current_node]:\n",
        "            continue\n",
        "\n",
        "        for neighbor in graph.neighbors(current_node):\n",
        "            weight = graph[current_node][neighbor]['weight']\n",
        "            paper = graph[current_node][neighbor]['titles']\n",
        "\n",
        "            if current_distance + weight < distances[neighbor]:\n",
        "                distances[neighbor] = current_distance + weight\n",
        "                previous[neighbor] = (current_node,paper)\n",
        "                heapq.heappush(priority_queue, (current_distance + weight, neighbor))\n",
        "    # path to return\n",
        "    path = []\n",
        "\n",
        "    papers_aux = []\n",
        "    current = end\n",
        "    while current is not None:\n",
        "\n",
        "      if current != start:\n",
        "            path.insert(0, current)\n",
        "      if previous[current] is not None:\n",
        "        current,papers_l = previous[current]\n",
        "        for x in papers_l:\n",
        "          papers_aux.insert(0,x)\n",
        "      else:\n",
        "        break\n",
        "\n",
        "    path.insert(0, start)\n",
        "\n",
        "    return papers_aux, path"
      ],
      "metadata": {
        "id": "O78V3d76gc3n"
      },
      "id": "O78V3d76gc3n",
      "execution_count": 143,
      "outputs": []
    },
    {
      "cell_type": "code",
      "source": [
        "def shortest_ordered_walk(graph,node_list):\n",
        "  path = []\n",
        "  papers = []\n",
        "\n",
        "  for h in range(n-1):\n",
        "\n",
        "          if subsample[h] not in graph.nodes():\n",
        "              print('WARNING: this here is not in the graph! Try to change N or check if the spelling is correct')\n",
        "              return\n",
        "          p,a = dijkstra(graph, subsample[h], subsample[h+1])\n",
        "          # check that the order is preserved\n",
        "          for x in a:\n",
        "            try:\n",
        "              if x in subsample[h+2:]:\n",
        "                print('The order is not preserved')\n",
        "                return(a)\n",
        "            except:\n",
        "              break\n",
        "\n",
        "          if len(a) == 0:\n",
        "              print(\"WARNING: There is no such path!\")\n",
        "              return\n",
        "          path.append(a)\n",
        "          if len(p) != 0:\n",
        "            for el in p:\n",
        "              papers.append(el)\n",
        "\n",
        "  return papers,path\n",
        "\n",
        "# we choose an arbitrary N, which has to be lower than the total number of nodes\n",
        "N = 1000\n",
        "\n",
        "degrees = dict(collaboration_subgraph.degree())\n",
        "topN_authors = sorted(degrees.items(),key=lambda x:x[1],reverse=True)[:N]\n",
        "topN_authors_aux = [el[0] for el in topN_authors]\n",
        "subgraph_auth = collaboration_subgraph.subgraph(topN_authors_aux)\n",
        "n = 7\n",
        "subsample = random.sample(topN_authors_aux, n)\n",
        "\n",
        "print(subsample)\n",
        "papers,path = shortest_ordered_walk(subgraph_auth,subsample)\n",
        "print('List of papers we crossed: ')\n",
        "print(papers)\n",
        "print('Path we found: ')\n",
        "print(path)\n",
        "# pos = nx.spring_layout(subgraph_auth)\n",
        "# nx.draw(subgraph_auth, pos,with_labels=True)"
      ],
      "metadata": {
        "id": "7HMMRSzE8gwc",
        "colab": {
          "base_uri": "https://localhost:8080/"
        },
        "outputId": "05b83c8f-a976-43bb-a2d6-c58945929e62"
      },
      "id": "7HMMRSzE8gwc",
      "execution_count": 149,
      "outputs": [
        {
          "output_type": "stream",
          "name": "stdout",
          "text": [
            "['Intikhab Alam Altschuler', 'Martin S. Taylor', 'Marco Pagni', 'Richard McVeigh', 'Sandra Orchard', 'Guirong Qian', 'Sylvie Ricard-Blum']\n",
            "List of papers we crossed\n",
            "['A promoter-level mammalian expression atlas', 'A promoter-level mammalian expression atlas', 'InterPro in 2011: new developments in the family and domain prediction database', 'The InterPro Database, 2003 brings increased coverage and new features', 'The InterPro Database, 2003 brings increased coverage and new features', 'InterPro: the integrative protein signature database', 'Reference sequence (RefSeq) database at NCBI: current status, taxonomic expansion, and functional annotation', 'Reference sequence (RefSeq) database at NCBI: current status, taxonomic expansion, and functional annotation', 'InterPro: the integrative protein signature database', 'IntAct: an open source molecular interaction database', 'The MIntAct project—IntAct as a common curation platform for 11 molecular interaction databases']\n",
            "Path we found\n",
            "[['Intikhab Alam Altschuler', 'Martin S. Taylor'], ['Martin S. Taylor', 'Julian Gough', 'Christian J A Sigrist', 'Marco Pagni'], ['Marco Pagni', 'David Binns', 'Daniel H. Haft', 'Richard McVeigh'], ['Richard McVeigh', 'Daniel H. Haft', 'Amos Bairoch', 'Bernd Roechert', 'Sandra Orchard'], ['Sandra Orchard', 'Guirong Qian'], ['Guirong Qian', 'Sylvie Ricard-Blum']]\n"
          ]
        }
      ]
    },
    {
      "cell_type": "markdown",
      "source": [
        "### Functionality 4 - Disconnecting Graphs"
      ],
      "metadata": {
        "id": "y1zOx7Hqzmj2"
      },
      "id": "y1zOx7Hqzmj2"
    },
    {
      "cell_type": "code",
      "source": [
        "def disconnecting_graph(graph,auth_a,auth_b):\n",
        "\n",
        "\n",
        "\n",
        "\n",
        "N = 1000\n",
        "\n",
        "degrees = dict(collaboration_subgraph.degree())\n",
        "topN_authors = sorted(degrees.items(),key=lambda x:x[1],reverse=True)[:N]\n",
        "topN_authors_aux = [el[0] for el in topN_authors]\n",
        "subgraph_auth = collaboration_subgraph.subgraph(topN_authors_aux)\n",
        "\n",
        "\n"
      ],
      "metadata": {
        "id": "4bjmw6ZNztTm"
      },
      "id": "4bjmw6ZNztTm",
      "execution_count": null,
      "outputs": []
    }
  ],
  "metadata": {
    "kernelspec": {
      "display_name": "Python 3 (ipykernel)",
      "language": "python",
      "name": "python3"
    },
    "language_info": {
      "codemirror_mode": {
        "name": "ipython",
        "version": 3
      },
      "file_extension": ".py",
      "mimetype": "text/x-python",
      "name": "python",
      "nbconvert_exporter": "python",
      "pygments_lexer": "ipython3",
      "version": "3.11.1"
    },
    "colab": {
      "provenance": []
    }
  },
  "nbformat": 4,
  "nbformat_minor": 5
}
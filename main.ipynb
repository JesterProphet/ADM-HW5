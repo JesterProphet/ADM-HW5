{
 "cells": [
  {
   "cell_type": "markdown",
   "id": "a8ba4af4",
   "metadata": {},
   "source": [
    "# Homework 5 - The eternal significance of publications and citations!\n",
    "\n",
    "#### Group 15 <br>\n",
    "\n",
    "<div style=\"float: left;\">\n",
    "    <table>\n",
    "        <tr>\n",
    "            <th>Student</th>\n",
    "            <th>GitHub</th>\n",
    "            <th>Matricola</th>\n",
    "            <th>E-Mail</th>\n",
    "        </tr>\n",
    "        <tr>\n",
    "            <td>André Leibrant</td>\n",
    "            <td>JesterProphet</td>\n",
    "            <td>2085698</td>\n",
    "            <td>andre.leibrant@gmx.de</td>\n",
    "        </tr>\n",
    "        <tr>\n",
    "            <td>Gianluca Procopio</td>\n",
    "            <td>gianluca-24</td>\n",
    "            <td>1942103</td>\n",
    "            <td>procopio.1942103@studenti.uniroma1.it</td>\n",
    "        </tr>\n",
    "        <tr>\n",
    "            <td>Susanna Bravi</td>\n",
    "            <td>susannabravi</td>\n",
    "            <td>1916681</td>\n",
    "            <td>bravi.1916681@studenti.uniroma1.it</td>\n",
    "        </tr>\n",
    "    </table>\n",
    "</div>"
   ]
  },
  {
   "cell_type": "markdown",
   "id": "0c2f3cb5",
   "metadata": {},
   "source": [
    "#### Import Libraries and Modules"
   ]
  },
  {
   "cell_type": "code",
   "execution_count": 68,
   "id": "e40649ee",
   "metadata": {},
   "outputs": [],
   "source": [
    "import ast\n",
    "import csv\n",
    "import json\n",
    "import networkx as nx\n",
    "import pandas as pd"
   ]
  },
  {
   "cell_type": "markdown",
   "id": "6652d4e5",
   "metadata": {},
   "source": [
    "## 1. Data\n",
    "In this homework, you will work on a dataset that contains information about a group of papers and their citation relationships. You can find and download the dataset [here](https://www.kaggle.com/datasets/mathurinache/citation-network-dataset).\n",
    "\n",
    "### Graphs setup\n",
    "Based on the available data, you will create two graphs to model our relationships as follows:\n",
    "\n",
    "1. **Citation graph:** This graph should represent the paper's citation relationships. We want this graph to be unweighted and directed. The citation should represent the citation given from one paper to another. For example, if paper A has cited paper B, we should expect an edge from node A to B.\n",
    "\n",
    "2. **Collaboration graph:** This graph should represent the collaborations of the paper's authors. This graph should be weighted and undirected. Consider an appropriate weighting scheme for your edges to make your graph weighted.\n",
    "\n",
    "### Data pre-processing\n",
    "The dataset is quite large and may not fit in your memory when you try constructing your graph. So, what is the solution? You should focus your investigation on a subgraph. You can work on the most connected component in the graph. However, you must first construct and analyze the connections to identify the connected components.\n",
    "\n",
    "As a result, you will attempt to approximate that most connected component by performing the following steps:\n",
    "\n",
    "1. Identify the top **10,000 papers** with the <u>highest number of citations</u>.\n",
    "\n",
    "\n",
    "2. Then the **nodes** of your graphs would be as follows:\n",
    "\n",
    "    **Citation graph:** you can consider each of the papers as your nodes\n",
    "\n",
    "    **Collaboration graph:** the authors of these papers would be your nodes\n",
    "\n",
    "\n",
    "3. For the **edges** of the two graphs, you would have the following cases:\n",
    "\n",
    "    **Citation graph:** only consider the citation relationship between these 10,000 papers and ignore the rest.\n",
    "\n",
    "    **Collaboration graph:** only consider the collaborations between the authors of these 10,000 papers and ignore the rest.\n",
    "    \n",
    "---\n",
    "\n",
    "We decided to read the large JSON file line by line and save the paper `id` with corresponding `n_citation` in a list.\n",
    "\n",
    "---"
   ]
  },
  {
   "cell_type": "code",
   "execution_count": null,
   "id": "7d24d323",
   "metadata": {
    "scrolled": false
   },
   "outputs": [],
   "source": [
    "# File path for papers json file\n",
    "file_path = \"data.json\"\n",
    "\n",
    "# List to store paper information\n",
    "papers = []\n",
    "\n",
    "# Open the papers json file\n",
    "with open(file_path, \"r\") as file:\n",
    "    \n",
    "    # Iterate through every line of the file\n",
    "    for line_number, line in enumerate(file):\n",
    "        \n",
    "        # Remove the leading comma\n",
    "        if line.startswith(\",\"):\n",
    "            line = line[1:]\n",
    "        \n",
    "        # Skip the opening and ending braket\n",
    "        if len(line) > 2:\n",
    "            \n",
    "            # Skip lines that have non-readable characters\n",
    "            try:\n",
    "            \n",
    "                # Parse the json line\n",
    "                data = json.loads(line)\n",
    "\n",
    "                # Extract the id and number of citations (set to 0 if doesn't exist)\n",
    "                paper_id = data[\"id\"]\n",
    "                paper_citations = data.get(\"n_citation\", 0)\n",
    "\n",
    "                # Append the information to the list\n",
    "                papers.append({\"id\": paper_id, \"n_citations\": paper_citations})\n",
    "                \n",
    "            except:\n",
    "                pass"
   ]
  },
  {
   "cell_type": "markdown",
   "id": "2e491552",
   "metadata": {},
   "source": [
    "---\n",
    "\n",
    "In the next step we sort the list by `n_citations`, extract the top 10,000 entries and convert the id key values to a list.\n",
    "\n",
    "---"
   ]
  },
  {
   "cell_type": "code",
   "execution_count": null,
   "id": "d33d4ca9",
   "metadata": {},
   "outputs": [],
   "source": [
    "# Sort the list based on the number of citations\n",
    "papers.sort(key=lambda paper: paper[\"n_citations\"], reverse=True)\n",
    "\n",
    "# Extract the top 10000 entries\n",
    "top_10000_papers = papers[:10000]\n",
    "\n",
    "# Convert id key values to list\n",
    "paper_ids = [paper[\"id\"] for paper in top_10000_papers]"
   ]
  },
  {
   "cell_type": "markdown",
   "id": "30b7fac5",
   "metadata": {},
   "source": [
    "---\n",
    "\n",
    "Finally, we are going to iterate through the JSON file again and only extract the papers which are inside the top 10,000 list.\n",
    "\n",
    "---"
   ]
  },
  {
   "cell_type": "code",
   "execution_count": 7,
   "id": "6c59fd5b",
   "metadata": {},
   "outputs": [],
   "source": [
    "# Initialize an empty Pandas DataFrame\n",
    "df_top_10000_papers = pd.DataFrame()\n",
    "\n",
    "# Open the papers json file\n",
    "with open(file_path, \"r\") as file:\n",
    "    \n",
    "    # Iterate through every line of the file\n",
    "    for _, line in enumerate(file):\n",
    "        \n",
    "        # Remove the leading comma\n",
    "        if line.startswith(\",\"):\n",
    "            line = line[1:]\n",
    "        \n",
    "        # Skip the opening and ending braket\n",
    "        if len(line) > 2:\n",
    "            \n",
    "            # Skip lines that have non-readable characters\n",
    "            try:\n",
    "            \n",
    "                # Parse the json line\n",
    "                data = json.loads(line)\n",
    "\n",
    "                # Only append if the id is from the top 10000 papers list\n",
    "                if data[\"id\"] in paper_ids:\n",
    "\n",
    "                    # Load the json string into a temporary Pandas DataFrame\n",
    "                    tmp_df = pd.read_json(line, lines=True)\n",
    "\n",
    "                    # Append the temporary DataFrame to the main DataFrame\n",
    "                    df_top_10000_papers = pd.concat([df_top_10000_papers, tmp_df], ignore_index=True)\n",
    "            \n",
    "            except:\n",
    "                pass"
   ]
  },
  {
   "cell_type": "markdown",
   "id": "2b3fee15",
   "metadata": {},
   "source": [
    "---\n",
    "\n",
    "We save the final result inside a CSV file, so that we don't have to always rerun the previous steps.\n",
    "\n",
    "---"
   ]
  },
  {
   "cell_type": "code",
   "execution_count": 9,
   "id": "7f3ff353",
   "metadata": {},
   "outputs": [],
   "source": [
    "# Save results in CSV file\n",
    "df_top_10000_papers.to_csv(\"top_10000_papers.csv\", index=False)"
   ]
  },
  {
   "cell_type": "markdown",
   "id": "3f94e727",
   "metadata": {},
   "source": [
    "---\n",
    "\n",
    "We read the results inside the CSV file into a Pandas DataFrame for creating the citation and collaboration graphs.\n",
    "\n",
    "---"
   ]
  },
  {
   "cell_type": "code",
   "execution_count": null,
   "id": "c4f6e148",
   "metadata": {},
   "outputs": [],
   "source": [
    "# Read results from CSV file\n",
    "df_top_10000_papers = pd.read_csv(\"top_10000_papers.csv\")"
   ]
  },
  {
   "cell_type": "markdown",
   "id": "c801d998",
   "metadata": {},
   "source": [
    "---\n",
    "\n",
    "First, we are going to create the citation (direct) graph using the paper's citation relationships. For this we extract all unique values between paper `ids` and `references` (which we convert from a string to a list of integers) and save the results inside `all_nodes`. Then we iterate through every paper, add the node if it is inside `all_nodes`, and add the edge between the `id` and `reference` if both are inside `all_nodes`.\n",
    "\n",
    "---"
   ]
  },
  {
   "cell_type": "code",
   "execution_count": 104,
   "id": "6cb81f28",
   "metadata": {},
   "outputs": [],
   "source": [
    "# Drop all entries where the references field is empty\n",
    "df_top_10000_papers = df_top_10000_papers.dropna(subset=[\"references\"])\n",
    "\n",
    "# Create an empty directed graph for the citations\n",
    "citation_graph = nx.DiGraph()\n",
    "\n",
    "# Get all unique paper ids\n",
    "unique_ids = df_top_10000_papers[\"id\"].unique()\n",
    "\n",
    "# Extract all references and convert to a list of integers\n",
    "reference_values = []\n",
    "for references_str in df_top_10000_papers[\"references\"]:\n",
    "    references_list = ast.literal_eval(references_str)\n",
    "    reference_values.extend(references_list)\n",
    "\n",
    "# Get all unique values between both columns\n",
    "all_nodes = set(unique_ids).union(set(reference_values))\n",
    "\n",
    "# Add nodes and edges to the graph only for the nodes present in the file\n",
    "for _, row in df_top_10000_papers.iterrows():\n",
    "    paper_id = row[\"id\"]\n",
    "    references = ast.literal_eval(row[\"references\"])\n",
    "    \n",
    "    # Add node if not already added\n",
    "    if paper_id not in citation_graph.nodes:\n",
    "        citation_graph.add_node(paper_id)\n",
    "    \n",
    "    # Add edges for references that are in the file\n",
    "    for ref_id in references:\n",
    "        if ref_id in all_nodes:\n",
    "            citation_graph.add_edge(paper_id, ref_id)"
   ]
  },
  {
   "cell_type": "markdown",
   "id": "6293f0fc",
   "metadata": {},
   "source": [
    "---\n",
    "\n",
    "Next, we are going to create the collaboration (undirected and weigthed) graph using the collaborations of the paper's authors. For this we iterate through every paper and convert the authors list from a string to a list of dictionaries. Then we iterate through every pair of authors and add the nodes and edges if they don't exist yet. For the edge weight we decided to use the number of times two authors have collaborated. We are going to count the number of collaborations between each pair of authors and use that count as the weight.\n",
    "\n",
    "---"
   ]
  },
  {
   "cell_type": "code",
   "execution_count": 248,
   "id": "2a34656e",
   "metadata": {},
   "outputs": [],
   "source": [
    "# Create an empty undirected graph for the collaboration\n",
    "collaboration_graph = nx.Graph()\n",
    "\n",
    "# Iterate through each row in the DataFrame\n",
    "for _, paper in df_top_10000_papers.iterrows():\n",
    "    \n",
    "    # Convert the string to a list of dictionaries\n",
    "    authors_list = ast.literal_eval(paper[\"authors\"])\n",
    "\n",
    "    # Iterate through every pair of authors\n",
    "    for i, author_i_dict in enumerate(authors_list):\n",
    "        for j, author_j_dict in enumerate(authors_list[i+1:], start=i+1):\n",
    "            \n",
    "            # Retrieve author names\n",
    "            author_i = author_i_dict[\"name\"]\n",
    "            author_j = author_j_dict[\"name\"]\n",
    "            \n",
    "            # Initialize weight to 1\n",
    "            weight = 1\n",
    "            \n",
    "            # Add nodes\n",
    "            collaboration_graph.add_nodes_from([author_i, author_j])\n",
    "            \n",
    "            # Add edge if not already added and if yes, increase the weight by 1\n",
    "            if not collaboration_graph.has_edge(author_i, author_j):\n",
    "                collaboration_graph.add_edge(author_i, author_j, weight=weight)\n",
    "                collaboration_graph[author_i][author_j][\"titles\"] = [paper[\"title\"]]\n",
    "            else:\n",
    "                collaboration_graph[author_i][author_j][\"weight\"] += 1\n",
    "                collaboration_graph[author_i][author_j][\"titles\"] += [paper[\"title\"]]"
   ]
  },
  {
   "cell_type": "markdown",
   "id": "da487687",
   "metadata": {},
   "source": [
    "## 4. Command Line Question (CLQ)\n",
    "In this question, you should use any command line tools that you know to answer the following questions using the **directed** and **unweighted graph** that you have previously created: **Citation graph**:\n",
    "\n",
    "---\n",
    "\n",
    "Before solving the questions in the Command Line we find the largest strongly connected component and save the subgraph inside a file which we are going to use in the Command Line. We decided to work on a subgraph for computation time reasons."
   ]
  },
  {
   "cell_type": "code",
   "execution_count": 256,
   "id": "a57ad1e9",
   "metadata": {},
   "outputs": [],
   "source": [
    "# Get all strongly connected components\n",
    "strongly_connected_components = nx.strongly_connected_components(citation_graph)\n",
    "\n",
    "# Find the largest strongly connected component\n",
    "largest_component = max(strongly_connected_components, key=len)\n",
    "\n",
    "# Create a subgraph from the largest component\n",
    "citation_subgraph = citation_graph.subgraph(largest_component)"
   ]
  },
  {
   "cell_type": "markdown",
   "id": "bfdeeed1",
   "metadata": {},
   "source": [
    "---\n",
    "\n",
    "We quickly plot the subgraph:\n",
    "\n",
    "---"
   ]
  },
  {
   "cell_type": "code",
   "execution_count": 262,
   "id": "c07a1727",
   "metadata": {},
   "outputs": [
    {
     "data": {
      "image/png": "[encoded data removed]",
      "text/plain": [
       "<Figure size 640x480 with 1 Axes>"
      ]
     },
     "metadata": {},
     "output_type": "display_data"
    }
   ],
   "source": [
    "# Plot the subgraph\n",
    "pos = nx.spring_layout(citation_subgraph)\n",
    "nx.draw(citation_subgraph,\n",
    "        pos,\n",
    "        with_labels=False,\n",
    "        arrowsize=13,\n",
    "        connectionstyle=\"arc3, rad=0.4\")\n",
    "plt.title(\"Largest Strongly Connected Component of the Citation Graph\")\n",
    "plt.show()"
   ]
  },
  {
   "cell_type": "markdown",
   "id": "cf89a2e3",
   "metadata": {},
   "source": [
    "---\n",
    "\n",
    "At last we save the subgraph in a file.\n",
    "\n",
    "---"
   ]
  },
  {
   "cell_type": "code",
   "execution_count": 258,
   "id": "bdbd674f",
   "metadata": {},
   "outputs": [],
   "source": [
    "nx.write_edgelist(citation_subgraph, \"citation_subgraph.edgelist\", data=False)"
   ]
  },
  {
   "cell_type": "markdown",
   "id": "8b4bd951",
   "metadata": {},
   "source": [
    "---\n",
    "\n",
    "The shell script is saved in the file `CommandLine.sh`. First you need to navigate to the file where the `scitation_subgraph.edgelist` file is saved by using the `cd` command and then you can run the script with the `./CommandLine.sh` command (before that you have to make sure that it is executable by using the `chmod +x CommandLine.sh` command).\n",
    "\n",
    "---"
   ]
  },
  {
   "cell_type": "markdown",
   "id": "70650ebf",
   "metadata": {},
   "source": [
    "---\n",
    "\n",
    "1. Is there any node that acts as an important \"connector\" between the different parts of the graph?\n",
    "\n",
    "To identify a possible important connector we are going to calculate the betweenness centrality for each note:\n",
    "\n",
    "```bash\n",
    "# Calculate betweenness centrality for each node\n",
    "python -c \"import networkx as nx; citation_subgraph = nx.read_edgelist('citation_subgraph.edgelist', create_using=nx.DiGraph()); print('\\n'.join([f'{node} {centrality}' for node, centrality in nx.betweenness_centrality(citation_subgraph).items()]))\" > betweenness_centrality.txt\n",
    "\n",
    "# Sort nodes by betweenness centrality in descending order\n",
    "sort -k2 -rn betweenness_centrality.txt > sorted_betweenness_centrality.txt\n",
    "\n",
    "# Print the top connectors\n",
    "head -n 10 sorted_betweenness_centrality.txt\n",
    "```\n",
    "\n",
    "![Screenshot1](Screenshot1.png)\n",
    "\n",
    "---\n",
    "\n",
    "**Conclusion:** The node with the paper id `2121127625` has a betweenness centrality score of 0.51 which indicates that, on average, half of the shortest paths in the graph pass through that specific node. The nodes with the paper ids `2032210760`, `2107890099`, and `1975846642` have a similar importance.\n",
    "\n",
    "---"
   ]
  },
  {
   "cell_type": "markdown",
   "id": "f3836db4",
   "metadata": {},
   "source": [
    "2. How does the degree of citation vary among the graph nodes?\n",
    "\n",
    "Because not specified we are going to analyze the in-degrees and out-degrees of each node. In our context the in-degrees represent the number of times a paper has been cited and the out-degrees represent the number of citations made by that paper.\n",
    "\n",
    "```bash\n",
    "# Calculate in-degree and out-degree for each node and print the largest and smallest value for each type of degree\n",
    "python -c \"import networkx as nx; citation_subgraph = nx.read_edgelist('citation_subgraph.edgelist', create_using=nx.DiGraph()); in_degrees = sorted(citation_subgraph.in_degree(), key=lambda x: x[1], reverse=True); out_degrees = sorted(citation_subgraph.out_degree(), key=lambda x: x[1], reverse=True); print(f'Largest In-Degree: {in_degrees[0][0]} {in_degrees[0][1]}'); print(f'Lowest In-Degree: {in_degrees[-1][0]} {in_degrees[-1][1]}'); print(f'Largest Out-Degree: {out_degrees[0][0]} {out_degrees[0][1]}'); print(f'Lowest Out-Degree: {out_degrees[-1][0]} {out_degrees[-1][1]}')\"\n",
    "```\n",
    "\n",
    "![Screenshot2](Screenshot2.png)\n",
    "\n",
    "---\n",
    "\n",
    "**Conclusion:** Both type of degrees vary between 1 and 7.\n",
    "\n",
    "---"
   ]
  },
  {
   "cell_type": "markdown",
   "id": "6fe15c06",
   "metadata": {},
   "source": [
    "3. What is the average length of the shortest path among nodes?\n",
    "\n",
    "For this we can straight forward use the inbuild function `average_shortest_path_length` from `networkx`.\n",
    "\n",
    "```bash\n",
    "# Calculate average length of the shortest path among nodes\n",
    "python -c \"import networkx as nx; citation_subgraph = nx.read_edgelist('citation_subgraph.edgelist', create_using=nx.DiGraph()); average_shortest_path = nx.average_shortest_path_length(citation_subgraph); print(f'Average Shortest Path Length: {average_shortest_path}')\"\n",
    "```\n",
    "\n",
    "![Screenshot3](Screenshot3.png)\n",
    "\n",
    "---\n",
    "\n",
    "**Conclusion:** The average length of the shortest path is 4.24 nodes.\n",
    "\n",
    "---"
   ]
  },
  {
   "cell_type": "code",
   "execution_count": null,
   "id": "cde6b296",
   "metadata": {},
   "outputs": [],
   "source": []
  }
 ],
 "metadata": {
  "kernelspec": {
   "display_name": "Python 3 (ipykernel)",
   "language": "python",
   "name": "python3"
  },
  "language_info": {
   "codemirror_mode": {
    "name": "ipython",
    "version": 3
   },
   "file_extension": ".py",
   "mimetype": "text/x-python",
   "name": "python",
   "nbconvert_exporter": "python",
   "pygments_lexer": "ipython3",
   "version": "3.8.18"
  }
 },
 "nbformat": 4,
 "nbformat_minor": 5
}

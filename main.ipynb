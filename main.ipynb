{
 "cells": [
  {
   "cell_type": "markdown",
   "id": "a8ba4af4",
   "metadata": {},
   "source": [
    "# Homework 5 - The eternal significance of publications and citations!\n",
    "\n",
    "#### Group 15 <br>\n",
    "\n",
    "<div style=\"float: left;\">\n",
    "    <table>\n",
    "        <tr>\n",
    "            <th>Student</th>\n",
    "            <th>GitHub</th>\n",
    "            <th>Matricola</th>\n",
    "            <th>E-Mail</th>\n",
    "        </tr>\n",
    "        <tr>\n",
    "            <td>André Leibrant</td>\n",
    "            <td>JesterProphet</td>\n",
    "            <td>2085698</td>\n",
    "            <td>andre.leibrant@gmx.de</td>\n",
    "        </tr>\n",
    "        <tr>\n",
    "            <td>Gianluca Procopio</td>\n",
    "            <td>gianluca-24</td>\n",
    "            <td>1942103</td>\n",
    "            <td>procopio.1942103@studenti.uniroma1.it</td>\n",
    "        </tr>\n",
    "        <tr>\n",
    "            <td>Susanna Bravi</td>\n",
    "            <td>susannabravi</td>\n",
    "            <td>1916681</td>\n",
    "            <td>bravi.1916681@studenti.uniroma1.it</td>\n",
    "        </tr>\n",
    "    </table>\n",
    "</div>"
   ]
  },
  {
   "cell_type": "markdown",
   "id": "0c2f3cb5",
   "metadata": {},
   "source": [
    "#### Import Libraries and Modules"
   ]
  },
  {
   "cell_type": "code",
   "execution_count": 84,
   "id": "e40649ee",
   "metadata": {},
   "outputs": [],
   "source": [
    "import ast\n",
    "import csv\n",
    "import json\n",
    "import networkx as nx\n",
    "import pandas as pd\n",
    "import numpy as np\n",
    "import matplotlib.pyplot as plt\n",
    "plt.style.use('ggplot')\n",
    "import random\n",
    "from tabulate import tabulate\n",
    "from collections import deque"
   ]
  },
  {
   "cell_type": "markdown",
   "id": "9e63373f",
   "metadata": {},
   "source": [
    "#### Constants"
   ]
  },
  {
   "cell_type": "code",
   "execution_count": 31,
   "id": "64121460",
   "metadata": {},
   "outputs": [],
   "source": [
    "CIT_GRAPH = 'citation'\n",
    "COLLAB_GRAP = 'collaboration'"
   ]
  },
  {
   "cell_type": "markdown",
   "id": "6652d4e5",
   "metadata": {},
   "source": [
    "## 1. Data\n",
    "In this homework, you will work on a dataset that contains information about a group of papers and their citation relationships. You can find and download the dataset [here](https://www.kaggle.com/datasets/mathurinache/citation-network-dataset).\n",
    "\n",
    "### Graphs setup\n",
    "Based on the available data, you will create two graphs to model our relationships as follows:\n",
    "\n",
    "1. **Citation graph:** This graph should represent the paper's citation relationships. We want this graph to be unweighted and directed. The citation should represent the citation given from one paper to another. For example, if paper A has cited paper B, we should expect an edge from node A to B.\n",
    "\n",
    "2. **Collaboration graph:** This graph should represent the collaborations of the paper's authors. This graph should be weighted and undirected. Consider an appropriate weighting scheme for your edges to make your graph weighted.\n",
    "\n",
    "### Data pre-processing\n",
    "The dataset is quite large and may not fit in your memory when you try constructing your graph. So, what is the solution? You should focus your investigation on a subgraph. You can work on the most connected component in the graph. However, you must first construct and analyze the connections to identify the connected components.\n",
    "\n",
    "As a result, you will attempt to approximate that most connected component by performing the following steps:\n",
    "\n",
    "1. Identify the top **10,000 papers** with the <u>highest number of citations</u>.\n",
    "\n",
    "\n",
    "2. Then the **nodes** of your graphs would be as follows:\n",
    "\n",
    "    **Citation graph:** you can consider each of the papers as your nodes\n",
    "\n",
    "    **Collaboration graph:** the authors of these papers would be your nodes\n",
    "\n",
    "\n",
    "3. For the **edges** of the two graphs, you would have the following cases:\n",
    "\n",
    "    **Citation graph:** only consider the citation relationship between these 10,000 papers and ignore the rest.\n",
    "\n",
    "    **Collaboration graph:** only consider the collaborations between the authors of these 10,000 papers and ignore the rest.\n",
    "    \n",
    "---\n",
    "\n",
    "We decided to read the large JSON file line by line and save the paper `id` with corresponding `n_citation` in a list.\n",
    "\n",
    "---"
   ]
  },
  {
   "cell_type": "code",
   "execution_count": null,
   "id": "7d24d323",
   "metadata": {
    "scrolled": false
   },
   "outputs": [],
   "source": [
    "# File path for papers json file\n",
    "file_path = \"data.json\"\n",
    "\n",
    "# List to store paper information\n",
    "papers = []\n",
    "\n",
    "# Open the papers json file\n",
    "with open(file_path, \"r\") as file:\n",
    "    \n",
    "    # Iterate through every line of the file\n",
    "    for line_number, line in enumerate(file):\n",
    "        \n",
    "        # Remove the leading comma\n",
    "        if line.startswith(\",\"):\n",
    "            line = line[1:]\n",
    "        \n",
    "        # Skip the opening and ending braket\n",
    "        if len(line) > 2:\n",
    "            \n",
    "            # Skip lines that have non-readable characters\n",
    "            try:\n",
    "            \n",
    "                # Parse the json line\n",
    "                data = json.loads(line)\n",
    "\n",
    "                # Extract the id and number of citations (set to 0 if doesn't exist)\n",
    "                paper_id = data[\"id\"]\n",
    "                paper_citations = data.get(\"n_citation\", 0)\n",
    "\n",
    "                # Append the information to the list\n",
    "                papers.append({\"id\": paper_id, \"n_citations\": paper_citations})\n",
    "                \n",
    "            except:\n",
    "                pass"
   ]
  },
  {
   "cell_type": "markdown",
   "id": "2e491552",
   "metadata": {},
   "source": [
    "---\n",
    "\n",
    "In the next step we sort the list by `n_citations`, extract the top 10,000 entries and convert the id key values to a list.\n",
    "\n",
    "---"
   ]
  },
  {
   "cell_type": "code",
   "execution_count": null,
   "id": "d33d4ca9",
   "metadata": {},
   "outputs": [],
   "source": [
    "# Sort the list based on the number of citations\n",
    "papers.sort(key=lambda paper: paper[\"n_citations\"], reverse=True)\n",
    "\n",
    "# Extract the top 10000 entries\n",
    "top_10000_papers = papers[:10000]\n",
    "\n",
    "# Convert id key values to list\n",
    "paper_ids = [paper[\"id\"] for paper in top_10000_papers]"
   ]
  },
  {
   "cell_type": "markdown",
   "id": "30b7fac5",
   "metadata": {},
   "source": [
    "---\n",
    "\n",
    "Finally, we are going to iterate through the JSON file again and only extract the papers which are inside the top 10,000 list.\n",
    "\n",
    "---"
   ]
  },
  {
   "cell_type": "code",
   "execution_count": 7,
   "id": "6c59fd5b",
   "metadata": {},
   "outputs": [],
   "source": [
    "# Initialize an empty Pandas DataFrame\n",
    "df_top_10000_papers = pd.DataFrame()\n",
    "\n",
    "# Open the papers json file\n",
    "with open(file_path, \"r\") as file:\n",
    "    \n",
    "    # Iterate through every line of the file\n",
    "    for _, line in enumerate(file):\n",
    "        \n",
    "        # Remove the leading comma\n",
    "        if line.startswith(\",\"):\n",
    "            line = line[1:]\n",
    "        \n",
    "        # Skip the opening and ending braket\n",
    "        if len(line) > 2:\n",
    "            \n",
    "            # Skip lines that have non-readable characters\n",
    "            try:\n",
    "            \n",
    "                # Parse the json line\n",
    "                data = json.loads(line)\n",
    "\n",
    "                # Only append if the id is from the top 10000 papers list\n",
    "                if data[\"id\"] in paper_ids:\n",
    "\n",
    "                    # Load the json string into a temporary Pandas DataFrame\n",
    "                    tmp_df = pd.read_json(line, lines=True)\n",
    "\n",
    "                    # Append the temporary DataFrame to the main DataFrame\n",
    "                    df_top_10000_papers = pd.concat([df_top_10000_papers, tmp_df], ignore_index=True)\n",
    "            \n",
    "            except:\n",
    "                pass"
   ]
  },
  {
   "cell_type": "markdown",
   "id": "2b3fee15",
   "metadata": {},
   "source": [
    "---\n",
    "\n",
    "We save the final result inside a CSV file, so that we don't have to always rerun the previous steps.\n",
    "\n",
    "---"
   ]
  },
  {
   "cell_type": "code",
   "execution_count": 9,
   "id": "7f3ff353",
   "metadata": {},
   "outputs": [],
   "source": [
    "# Save results in CSV file\n",
    "df_top_10000_papers.to_csv(\"top_10000_papers.csv\", index=False)"
   ]
  },
  {
   "cell_type": "markdown",
   "id": "3f94e727",
   "metadata": {},
   "source": [
    "---\n",
    "\n",
    "We read the results inside the CSV file into a Pandas DataFrame for creating the citation and collaboration graphs.\n",
    "\n",
    "---"
   ]
  },
  {
   "cell_type": "code",
   "execution_count": 3,
   "id": "c4f6e148",
   "metadata": {},
   "outputs": [],
   "source": [
    "# Read results from CSV file\n",
    "df_top_10000_papers = pd.read_csv(\"top_10000_papers.csv\")"
   ]
  },
  {
   "cell_type": "markdown",
   "id": "c801d998",
   "metadata": {},
   "source": [
    "---\n",
    "\n",
    "First, we are going to create the citation (direct) graph using the paper's citation relationships. For this we extract all unique values between paper `ids` and `references` (which we convert from a string to a list of integers) and save the results inside `all_nodes`. Then we iterate through every paper, add the node if it is inside `all_nodes`, and add the edge between the `id` and `reference` if both are inside `all_nodes`.\n",
    "\n",
    "---"
   ]
  },
  {
   "cell_type": "code",
   "execution_count": 5,
   "id": "6cb81f28",
   "metadata": {},
   "outputs": [],
   "source": [
    "# Drop all entries where the references field is empty\n",
    "df_top_10000_papers = df_top_10000_papers.dropna(subset=[\"references\"])\n",
    "\n",
    "# Create an empty directed graph for the citations\n",
    "citation_graph = nx.DiGraph()\n",
    "\n",
    "# Get all unique paper ids\n",
    "unique_ids = df_top_10000_papers[\"id\"].unique()\n",
    "\n",
    "# Extract all references and convert to a list of integers\n",
    "reference_values = []\n",
    "for references_str in df_top_10000_papers[\"references\"]:\n",
    "    references_list = ast.literal_eval(references_str)\n",
    "    reference_values.extend(references_list)\n",
    "\n",
    "# Get all unique values between both columns\n",
    "all_nodes = set(unique_ids).union(set(reference_values))\n",
    "\n",
    "# Add nodes and edges to the graph only for the nodes present in the file\n",
    "for _, row in df_top_10000_papers.iterrows():\n",
    "    paper_id = row[\"id\"]\n",
    "    references = ast.literal_eval(row[\"references\"])\n",
    "    \n",
    "    # Add node if not already added\n",
    "    if paper_id not in citation_graph.nodes:\n",
    "        citation_graph.add_node(paper_id)\n",
    "    \n",
    "    # Add edges for references that are in the file\n",
    "    for ref_id in references:\n",
    "        if ref_id in all_nodes:\n",
    "            citation_graph.add_edge(paper_id, ref_id)"
   ]
  },
  {
   "cell_type": "markdown",
   "id": "612d32c3",
   "metadata": {},
   "source": [
    "---\n",
    "\n",
    "In the next step we find the largest strongly connected component and save the result inside a subgraph.\n",
    "\n",
    "---"
   ]
  },
  {
   "cell_type": "code",
   "execution_count": 6,
   "id": "f3eede9b",
   "metadata": {},
   "outputs": [],
   "source": [
    "# Get all strongly connected components\n",
    "strongly_connected_components = nx.strongly_connected_components(citation_graph)\n",
    "\n",
    "# Find the largest strongly connected component\n",
    "largest_component = max(strongly_connected_components, key=len)\n",
    "\n",
    "# Create a subgraph from the largest component\n",
    "citation_subgraph = citation_graph.subgraph(largest_component)"
   ]
  },
  {
   "cell_type": "markdown",
   "id": "47121464",
   "metadata": {},
   "source": [
    "---\n",
    "\n",
    "We quickly plot the subgraph:\n",
    "\n",
    "---"
   ]
  },
  {
   "cell_type": "code",
   "execution_count": 7,
   "id": "849cc425",
   "metadata": {},
   "outputs": [
    {
     "data": {
      "image/png": "[encoded data removed]",
      "text/plain": [
       "<Figure size 640x480 with 1 Axes>"
      ]
     },
     "metadata": {},
     "output_type": "display_data"
    }
   ],
   "source": [
    "# Plot the subgraph\n",
    "pos = nx.spring_layout(citation_subgraph)\n",
    "nx.draw(citation_subgraph,\n",
    "        pos,\n",
    "        with_labels=False,\n",
    "        arrowsize=13,\n",
    "        connectionstyle=\"arc3, rad=0.4\")"
   ]
  },
  {
   "cell_type": "markdown",
   "id": "6293f0fc",
   "metadata": {},
   "source": [
    "---\n",
    "\n",
    "Next, we are going to create the collaboration (undirected and weigthed) graph using the collaborations of the paper's authors. For this we iterate through every paper and convert the authors list from a string to a list of dictionaries. Then we iterate through every pair of authors and add the nodes and edges if they don't exist yet. For the edge weight we decided to use the number of times two authors have collaborated. We are going to count the number of collaborations between each pair of authors and use that count as the weight.\n",
    "\n",
    "---"
   ]
  },
  {
   "cell_type": "code",
   "execution_count": 8,
   "id": "2a34656e",
   "metadata": {},
   "outputs": [],
   "source": [
    "# Create an empty undirected graph for the collaboration\n",
    "collaboration_graph = nx.Graph()\n",
    "\n",
    "# Iterate through each row in the DataFrame\n",
    "for _, paper in df_top_10000_papers.iterrows():\n",
    "    \n",
    "    # Convert the string to a list of dictionaries\n",
    "    authors_list = ast.literal_eval(paper[\"authors\"])\n",
    "\n",
    "    # Iterate through every pair of authors\n",
    "    for i, author_i_dict in enumerate(authors_list):\n",
    "        for j, author_j_dict in enumerate(authors_list[i+1:], start=i+1):\n",
    "            \n",
    "            # Retrieve author names\n",
    "            author_i = author_i_dict[\"name\"]\n",
    "            author_j = author_j_dict[\"name\"]\n",
    "            \n",
    "            # Initialize weight to 1\n",
    "            weight = 1\n",
    "            \n",
    "            # Add nodes\n",
    "            collaboration_graph.add_nodes_from([author_i, author_j])\n",
    "            \n",
    "            # Add edge if not already added and if yes, increase the weight by 1\n",
    "            if not collaboration_graph.has_edge(author_i, author_j):\n",
    "                collaboration_graph.add_edge(author_i, author_j, weight=weight)\n",
    "                collaboration_graph[author_i][author_j][\"titles\"] = [paper[\"title\"]]\n",
    "            else:\n",
    "                collaboration_graph[author_i][author_j][\"weight\"] += 1\n",
    "                collaboration_graph[author_i][author_j][\"titles\"] += [paper[\"title\"]]"
   ]
  },
  {
   "cell_type": "code",
   "execution_count": 9,
   "id": "4f5b06a0",
   "metadata": {},
   "outputs": [],
   "source": [
    "# Get all connected components\n",
    "connected_components = list(nx.connected_components(collaboration_graph))\n",
    "\n",
    "# Find the largest connected component\n",
    "largest_component = max(connected_components, key=len)\n",
    "\n",
    "# Create a subgraph from the largest connected component\n",
    "collaboration_subgraph = collaboration_graph.subgraph(largest_component)"
   ]
  },
  {
   "cell_type": "markdown",
   "id": "4e4eca95",
   "metadata": {},
   "source": [
    "---\n",
    "\n",
    "**Note:** A graphical representation was not possible because the subgraph has 7324 nodes with 72875 edges!\n",
    "\n",
    "---"
   ]
  },
  {
   "cell_type": "markdown",
   "id": "f4de246d",
   "metadata": {},
   "source": [
    "# 2. Controlling system"
   ]
  },
  {
   "cell_type": "markdown",
   "id": "ed9653b8",
   "metadata": {},
   "source": [
    "## 2.1. Backend Implementation"
   ]
  },
  {
   "cell_type": "markdown",
   "id": "dd01b20f",
   "metadata": {},
   "source": [
    "---\n",
    "### Functionality 1 - Graph Feature\n",
    "---"
   ]
  },
  {
   "cell_type": "markdown",
   "id": "ab22394b",
   "metadata": {},
   "source": [
    "This function should examine a graph and report on some of its features. The input and report that this function should produce are shown below.\n",
    "To retrieve these feautures we took advantages of some Networkx methods:\n",
    "- The number of the nodes in the graph: graph.number_of_nodes();\n",
    "- The number of the edges in the graph: graph.number_of_edges();\n",
    "- The graph density: nx.density(graph);\n",
    "- The graph degree distribution: for the udirected graph we can use the built in method nx.degree_histogram(graph); for the directed graph the things became a bit tricky: we had to compute the histogram manually by finding the higher degree among the inwards and outwards edges and then we created two list of zeros (of len max_degree+1) where each index represents a certain degree. In the end, we iterate over the values for both in_degree and out_degree and update the two arrays;\n",
    "- The average degree of the graph: to compute the average degree we first computed the degree of each node (dict(graph.degree())) and then we compute the mean (sum(tot_degree.values()) / nodes_n);\n",
    "- The graph hubs (hubs are nodes having degrees more extensive than the 95th percentile of the degree distribution): we computed the percentile and selected only the nodes whose degree was above the 95th percentile;\n",
    "- Whether the graph is dense or sparse: we fixed a threshold (th=0.6) and we decided that a graph is dense if the ratio between the number of edges and the max number of edges is above the threshold, otherwise it is sparse. The max number of edges is n*(n-1) if the graph is directed while it is n*(n-1)/2 if the graph is undirected - _n_ is the number of nodes."
   ]
  },
  {
   "cell_type": "code",
   "execution_count": 103,
   "id": "48a535d1",
   "metadata": {},
   "outputs": [],
   "source": [
    "# functionality 1\n",
    "def graph_features(graph,graph_name):\n",
    "  nodes_n = graph.number_of_nodes()\n",
    "  edge_n = graph.number_of_edges()\n",
    "  density = nx.density(graph)\n",
    "  if graph_name == COLLAB_GRAP:\n",
    "    degree_dist = nx.degree_histogram(graph) # just use the built in method\n",
    "  else: # compute the distribution of directed graph\n",
    "    # compute the ingoing and the outgoing edges\n",
    "    in_degrees = dict(graph.in_degree())\n",
    "    out_degrees = dict(graph.out_degree())\n",
    "    max_degree = max(max(in_degrees.values()), max(out_degrees.values()))\n",
    "    # Create histograms for in-degrees and out-degrees\n",
    "    # these lists helps us to save for each degree how many time we find it\n",
    "    in_degree_hist = np.zeros(max_degree + 1, dtype=int)\n",
    "    out_degree_hist = np.zeros(max_degree + 1, dtype=int)\n",
    "    # manually create the histograms by counting for each degree how many time we found it\n",
    "    for degree in in_degrees.values():\n",
    "        in_degree_hist[degree] += 1\n",
    "    for degree in out_degrees.values():\n",
    "        out_degree_hist[degree] += 1\n",
    "    # return it as  a tuple such that i can return just one variable\n",
    "    degree_dist = (in_degree_hist,out_degree_hist)\n",
    "  # compute the average degree\n",
    "  tot_degree = dict(graph.degree())\n",
    "  degree_avg = sum(tot_degree.values()) / nodes_n\n",
    "\n",
    "  # compute hub, 95th percentile\n",
    "  perc = np.percentile(list(tot_degree.values()),95)\n",
    "  hub = [node_key for node_key, node_val in tot_degree.items() if node_val >= perc]\n",
    "  # graph dense or sparse\n",
    "  # max number of edges\n",
    "  th = 0.6\n",
    "  # compute the max number of edges paying attention if the graph is directed or undirected\n",
    "  max_edges = nodes_n * (nodes_n - 1)/2 if graph_name == COLLAB_GRAP else nodes_n * (nodes_n - 1)\n",
    "  is_dense = True if edge_n / max_edges >= th else False\n",
    "  \n",
    "  return nodes_n,edge_n,density,degree_dist,degree_avg,hub,is_dense\n",
    "\n",
    "name = int(input('Insert 0 for Citation Graph and 1 for Collaboration Graph: '))"
   ]
  },
  {
   "cell_type": "code",
   "execution_count": 104,
   "id": "4a8a6f1a",
   "metadata": {},
   "outputs": [],
   "source": [
    "name = int(input('Insert 0 for Citation Graph and 1 for Collaboration Graph: '))\n",
    "\n",
    "if name == 0:\n",
    "  nodes_n,edge_n,density,degree_dist,degree_avg,hub,is_dense = graph_features(citation_graph,'citation')\n",
    "else:\n",
    "  collab_features = graph_features(collaboration_graph,'collaboration')"
   ]
  },
  {
   "cell_type": "markdown",
   "id": "a0aa6677",
   "metadata": {},
   "source": [
    "### Functionality 2 - Nodes' contribution"
   ]
  },
  {
   "cell_type": "markdown",
   "id": "608957ec",
   "metadata": {},
   "source": [
    "Using this functionality, you will identify the papers/authors who have significantly contributed to this field of study. For this analysis, focusing solely on the number of citations for the paper or the number of collaborations of the authors can be misleading. You will examine this using various centrality measurements.\n",
    "\n",
    "In order to compute these centrality measurements we took advantage of some Networkx methods that allow us to compute all these centrality for the given node in input."
   ]
  },
  {
   "cell_type": "code",
   "execution_count": 201,
   "id": "a66eb195",
   "metadata": {},
   "outputs": [],
   "source": [
    "def nodes_contribution(graph,node,graph_name):\n",
    "  btwn = nx.betweenness_centrality(graph)[node]\n",
    "  pr = nx.pagerank(graph)[node]\n",
    "  clsn = nx.closeness_centrality(graph,u=node)\n",
    "  dc = nx.degree_centrality(graph)[node]\n",
    "  return btwn,pr,clsn,dc"
   ]
  },
  {
   "cell_type": "markdown",
   "id": "375ba867",
   "metadata": {},
   "source": [
    "### Functionality 3 - Shortest ordered walk"
   ]
  },
  {
   "cell_type": "markdown",
   "id": "728a97f7",
   "metadata": {},
   "source": [
    "Thus functionality works only on the Collaboration Graph, but despite it is a weighted graph, we used a BFS to commpute the shortest walk because if two authors collaborated to the same paper (hence, there is an edge between them) we assume that their distance is equal to 1. As a matter of fact, we are interested in the shortest walk and the weights does not represent distances: therefore we will compute the path with a BFS algorithm (Breadth First Search).\n",
    "\n",
    "In this implementation of the BFS we kept track of the nodes through a queue which is initialized with a tuple containing the start node, the path from the start node (initialized with the start node itself), and an empty list for papers. Then there is the main loop that continues till the queue is empty: in each iteration we remove and return the first tuple of the queue (pop() method), we check if the current node is the end node (we've reached our destination), we mark the current node as visited and iterate over the neighbors of the current node. Each time we add a node to the queue, we keep up to date the path variable and the papers titles.  \n",
    "\n",
    "This BFS is slightly revisited because beyond the path it returns also all the papers we crossed when looking for the right path."
   ]
  },
  {
   "cell_type": "code",
   "execution_count": 211,
   "id": "cde6b296",
   "metadata": {},
   "outputs": [],
   "source": [
    "def bfs_p(graph, start, end):\n",
    "    \n",
    "    # Initialize a queue with the start node\n",
    "    queue = [(start, [start], [])]\n",
    "    \n",
    "    # Initialize an empty set to keep track of visited nodes\n",
    "    visited = set()\n",
    "\n",
    "    # Loop through until the end node is reached\n",
    "    while queue:\n",
    "        \n",
    "        # Dequeue the current node to analyse and the current path from the queue\n",
    "        current_node, path, papers = queue.pop(0)\n",
    "        \n",
    "        # Check if the current node is the end node\n",
    "        if current_node == end:\n",
    "            return path, papers\n",
    "        \n",
    "        # Mark the current node as visited\n",
    "        visited.add(current_node)\n",
    "\n",
    "        # Iterate through all neighbour nodes\n",
    "        for neighbor in set(graph.neighbors(current_node)) - visited:\n",
    "            \n",
    "            # each edge between two authors represent a papers, therefore we need to retrieve the list of papers too\n",
    "            titles = graph[current_node][neighbor][\"titles\"]\n",
    "            \n",
    "            # Enqueue the neighbor node and update the path\n",
    "            queue.append((neighbor, path + [neighbor], papers + [titles[0]]))\n",
    "\n",
    "    # Return None if no path was found\n",
    "    return None, None"
   ]
  },
  {
   "cell_type": "markdown",
   "id": "94b9cab1",
   "metadata": {},
   "source": [
    "Below there is the main function we used to build the path. The main idea behind this function is that since we need to preserve the order of the given sequence of authors we will perform the BFS between 2 consecutive authors in the authors' sequence; with this idea, is more likely that our algorithm will visit the nodes in order. We later added a further check that makes us sure that the order is preserved."
   ]
  },
  {
   "cell_type": "code",
   "execution_count": 212,
   "id": "6b47dd83",
   "metadata": {},
   "outputs": [],
   "source": [
    "def shortest_ordered_walk(graph, subsample):\n",
    "    # initialize two empty arrays that will store the path to return and the papers\n",
    "    path = []\n",
    "    papers = []\n",
    "    # the for loop goes from zero \n",
    "    for i in range(0, len(subsample)-1):\n",
    "        # check if the nodes are in the subgraph we are considering. This will be useful only if we pick the subsample before we choose the top N.\n",
    "        if subsample[i] not in graph.nodes():\n",
    "            print(\"WARNING: This subsequence of nodes is not in the graph! \\\n",
    "                  Try to change N or check if the spelling is correct!\")\n",
    "            return None, None\n",
    "        \n",
    "        shortes_walk, titles = bfs_p(graph, subsample[i], subsample[i+1])\n",
    "        # if no path was found, display a warning and return None, None\n",
    "        if shortes_walk is None:\n",
    "            print(\"WARNING: There is no such path!\")\n",
    "            return None, None\n",
    "        else:\n",
    "            # check if we didn't respect the order\n",
    "            for auth in shortes_walk:\n",
    "                try:\n",
    "                    if auth in subsample[i+2:]:\n",
    "                        print(\"WARNING: You didn't respect the order!\")\n",
    "                        return None, None\n",
    "                except:\n",
    "                    break\n",
    "            # update the arrays to return\n",
    "            if path == []:\n",
    "                path = shortes_walk\n",
    "                papers = titles\n",
    "            else:\n",
    "                path += shortes_walk[1:]\n",
    "                papers += titles\n",
    "\n",
    "    return path, papers"
   ]
  },
  {
   "cell_type": "markdown",
   "id": "3e12c26f",
   "metadata": {},
   "source": [
    "This is a code snippet we used to test our code. We decided to first extract the top N authors from the collaboration graph (N should be lower than the total number of nodes and we don't recommend to set it too high) and then, among the top N, we retrieved a random sample of size n (n lower than N) that will be our sequence of authors that we will look for.  \n",
    "\n",
    "In order to find the top N we based our choice over the total number of collaboration (hence, the degree of the node), therefore we computed the degree for each node (each author) and sorted them based on the degree, in the end we selected the top N.  \n",
    "\n",
    "Instead, when looking for the random sample, we selected all the top N nodes and extracted a random sample of size n, and we created a subgraph (with N nodes) over which we will run our algorithm."
   ]
  },
  {
   "cell_type": "code",
   "execution_count": 13,
   "id": "e06c791d",
   "metadata": {},
   "outputs": [
    {
     "name": "stdout",
     "output_type": "stream",
     "text": [
      "Subsample:\n",
      "Conor McMenamin\n",
      "Sandra E. Orchard\n",
      "Chris P Ponting\n",
      "Tripti Gupta\n",
      "Morana Vitezic\n",
      "Jun Kawai\n",
      "Ioannis Xenarios\n",
      "\n",
      "List of papers we crossed:\n",
      "InterPro in 2011: new developments in the family and domain prediction database\n",
      "IntAct—open source resource for molecular interaction data\n",
      "IntAct—open source resource for molecular interaction data\n",
      "The InterPro Database, 2003 brings increased coverage and new features\n",
      "The InterPro Database, 2003 brings increased coverage and new features\n",
      "InterPro: the integrative protein signature database\n",
      "Reference sequence (RefSeq) database at NCBI: current status, taxonomic expansion, and functional annotation\n",
      "Reference sequence (RefSeq) database at NCBI: current status, taxonomic expansion, and functional annotation\n",
      "InterPro: the integrative protein signature database\n",
      "A promoter-level mammalian expression atlas\n",
      "A promoter-level mammalian expression atlas\n",
      "A promoter-level mammalian expression atlas\n",
      "The InterPro protein families database: the classification resource after 15 years\n",
      "\n",
      "Path we found:\n",
      "Conor McMenamin\n",
      "Rolf Apweiler\n",
      "Sandra E. Orchard\n",
      "Rolf Apweiler\n",
      "Chris P Ponting\n",
      "Daniel Kahn\n",
      "Daniel H. Haft\n",
      "Tripti Gupta\n",
      "Daniel H. Haft\n",
      "Julian Gough\n",
      "Morana Vitezic\n",
      "Jun Kawai\n",
      "Julian Gough\n",
      "Ioannis Xenarios\n"
     ]
    }
   ],
   "source": [
    "# We choose an arbitrary N which has to be lower than the total number of nodes\n",
    "N = 1000\n",
    "\n",
    "degrees = dict(collaboration_graph.degree())\n",
    "topN_authors = sorted(degrees.items(),key=lambda x:x[1],reverse=True)[:N]\n",
    "topN_authors_aux = [el[0] for el in topN_authors]\n",
    "graph_auth = collaboration_graph.subgraph(topN_authors_aux)\n",
    "\n",
    "n = 7\n",
    "random.seed(40)\n",
    "\n",
    "subsample = random.sample(topN_authors_aux, n)\n",
    "\n",
    "print(\"Subsample:\")\n",
    "for author in subsample:\n",
    "    print(author)\n",
    "\n",
    "path, papers = shortest_ordered_walk(graph_auth, subsample)\n",
    "\n",
    "print('\\nList of papers we crossed:')\n",
    "for paper in papers:\n",
    "    print(paper)\n",
    "\n",
    "print('\\nPath we found:')\n",
    "for node in path:\n",
    "    print(node)"
   ]
  },
  {
   "cell_type": "markdown",
   "id": "91d79250",
   "metadata": {},
   "source": [
    "---\n",
    "#### Chatgpt implementation\n",
    "---"
   ]
  },
  {
   "cell_type": "code",
   "execution_count": 24,
   "id": "ca144bd7",
   "metadata": {},
   "outputs": [],
   "source": [
    "import queue\n",
    "\n",
    "def bfs_shortest_walk(graph, start, end):\n",
    "    visited = set()\n",
    "    q = queue.Queue()\n",
    "    q.put((start, [start]))\n",
    "\n",
    "    while not q.empty():\n",
    "        current, path = q.get()\n",
    "\n",
    "        if current == end:\n",
    "            # Found the destination\n",
    "            return path, get_papers_along_path(graph, path)\n",
    "\n",
    "        visited.add(current)\n",
    "\n",
    "        for neighbor in graph.neighbors(current):\n",
    "            if neighbor not in visited and neighbor == path[len(path) - 1]:\n",
    "                # Preserve order\n",
    "                q.put((neighbor, path + [neighbor]))\n",
    "\n",
    "    return None, None\n",
    "\n",
    "def shortest_ordered_walk_chatGPT(graph, subsample):\n",
    "    path = []\n",
    "    papers = []\n",
    "\n",
    "    for i in range(len(subsample) - 1):\n",
    "        current_author = subsample[i]\n",
    "        next_author = subsample[i + 1]\n",
    "\n",
    "        if current_author not in graph.nodes():\n",
    "            print(\"WARNING: This subsequence of nodes is not in the graph! \\\n",
    "                  Try to change N or check if the spelling is correct!\")\n",
    "            return\n",
    "\n",
    "        shortest_walk, titles = bfs_shortest_walk(graph, current_author, next_author)\n",
    "\n",
    "        if shortest_walk is None:\n",
    "            print(\"WARNING: There is no such path!\")\n",
    "            return None, None\n",
    "\n",
    "        if path == []:\n",
    "            path = shortest_walk\n",
    "            papers = titles\n",
    "        else:\n",
    "            # Skip the first node to avoid duplicates\n",
    "            path += shortest_walk[1:]\n",
    "            papers += titles\n",
    "\n",
    "    return path, papers\n",
    "\n",
    "def get_papers_along_path(graph, path):\n",
    "    papers = []\n",
    "    for i in range(len(path) - 1):\n",
    "        papers.extend(graph[path[i]][path[i + 1]]['titles'])\n",
    "    return papers"
   ]
  },
  {
   "cell_type": "markdown",
   "id": "2c20618f",
   "metadata": {},
   "source": [
    "To test this code we used the same kind of code snippet we used in other implementations."
   ]
  },
  {
   "cell_type": "code",
   "execution_count": 26,
   "id": "87122b7f",
   "metadata": {},
   "outputs": [
    {
     "name": "stdout",
     "output_type": "stream",
     "text": [
      "Subsample:\n",
      "Conor McMenamin\n",
      "Sandra E. Orchard\n",
      "Chris P Ponting\n",
      "Tripti Gupta\n",
      "Morana Vitezic\n",
      "Jun Kawai\n",
      "Ioannis Xenarios\n",
      "WARNING: There is no such path!\n",
      "\n",
      "Path we found:\n"
     ]
    },
    {
     "ename": "TypeError",
     "evalue": "'NoneType' object is not iterable",
     "output_type": "error",
     "traceback": [
      "\u001b[1;31m---------------------------------------------------------------------------\u001b[0m",
      "\u001b[1;31mTypeError\u001b[0m                                 Traceback (most recent call last)",
      "Cell \u001b[1;32mIn[26], line 21\u001b[0m\n\u001b[0;32m     17\u001b[0m path, papers \u001b[38;5;241m=\u001b[39m shortest_ordered_walk_chatGPT(graph_auth, subsample)\n\u001b[0;32m     20\u001b[0m \u001b[38;5;28mprint\u001b[39m(\u001b[38;5;124m'\u001b[39m\u001b[38;5;130;01m\\n\u001b[39;00m\u001b[38;5;124mPath we found:\u001b[39m\u001b[38;5;124m'\u001b[39m)\n\u001b[1;32m---> 21\u001b[0m \u001b[38;5;28;01mfor\u001b[39;00m node \u001b[38;5;129;01min\u001b[39;00m path:\n\u001b[0;32m     22\u001b[0m     \u001b[38;5;28mprint\u001b[39m(node)\n",
      "\u001b[1;31mTypeError\u001b[0m: 'NoneType' object is not iterable"
     ]
    }
   ],
   "source": [
    "N = 1000\n",
    "\n",
    "degrees = dict(collaboration_graph.degree())\n",
    "topN_authors = sorted(degrees.items(),key=lambda x:x[1],reverse=True)[:N]\n",
    "topN_authors_aux = [el[0] for el in topN_authors]\n",
    "graph_auth = collaboration_graph.subgraph(topN_authors_aux)\n",
    "\n",
    "n = 7\n",
    "random.seed(40)\n",
    "\n",
    "subsample = random.sample(topN_authors_aux, n)\n",
    "\n",
    "print(\"Subsample:\")\n",
    "for author in subsample:\n",
    "    print(author)\n",
    "\n",
    "path, papers = shortest_ordered_walk_chatGPT(graph_auth, subsample)\n",
    "\n",
    "print('\\nList of papers we crossed:')\n",
    "for paper in papers:\n",
    "    print(paper)\n",
    "\n",
    "print('\\nPath we found:')\n",
    "for node in path:\n",
    "    print(node)"
   ]
  },
  {
   "cell_type": "markdown",
   "id": "692d60d8",
   "metadata": {},
   "source": [
    "ChatGPT implementation is not working...   \n",
    "We wrote a detailed prompt reporting the input, the desidered output and your indications. In the first place it didn't understand well the problem, therefore we showed it our implementation of the code and we asked for another solution more efficient but it couldn't give us any.            \n",
    "We set a seed and used the same input in order to have a comparison between the 2 implementations.              \n",
    "Its implementation is of course similar to ours but the bfs is implemented through a Queue, this can be a reasonable way to implement the BFS but in this case it doesn't work and so it doesn't find the shortest path.\n"
   ]
  },
  {
   "cell_type": "markdown",
   "id": "42c1739e",
   "metadata": {},
   "source": [
    "### Functionality 4 - Disconnecting Graphs"
   ]
  },
  {
   "cell_type": "markdown",
   "id": "9b8fdb8d",
   "metadata": {},
   "source": [
    "Here we implemented the minimum cut algorithm to disconnect two specified nodes and we used a BFS to find paths between the nodes and then iteratively removes edges along these paths until there is no longer a path between the two nodes.  \n",
    "This is very similar to our previous implementation but we don't need the papers' title this time."
   ]
  },
  {
   "cell_type": "code",
   "execution_count": null,
   "id": "abe074d6",
   "metadata": {},
   "outputs": [],
   "source": [
    "def bfs(graph, start, end):\n",
    "    visited = set()\n",
    "    # use a deque to implement the bfs\n",
    "    queue = deque([(start, [])])\n",
    "\n",
    "    while queue:\n",
    "        current, path = queue.popleft()\n",
    "        if current not in visited:\n",
    "            visited.add(current)\n",
    "            path = path + [current]\n",
    "            # check if you reached your \n",
    "            if current == end:\n",
    "                return path\n",
    "            # analyze the neighbors\n",
    "            for neighbor in graph[current]:\n",
    "                if neighbor not in visited:\n",
    "                    queue.append((neighbor, path))\n",
    "    # return None if no path is found\n",
    "    return None"
   ]
  },
  {
   "cell_type": "markdown",
   "id": "8c26747b",
   "metadata": {},
   "source": [
    "In each iteration we call the BFS and look for all the possible paths. Every time we find a path we iterate over it and \n",
    "we analyze the path by taking pairs of consecutive nodes (two consecutive nodes made a edge).  \n",
    "\n",
    "Therefore, once checked that that edge actually exists, we retrieve the data we care (the weight) and we remove the edge (we used the remove_edge function)."
   ]
  },
  {
   "cell_type": "code",
   "execution_count": null,
   "id": "2aced48c",
   "metadata": {},
   "outputs": [],
   "source": [
    "def min_cut_edges(graph, node_a, node_b):\n",
    "    # values to return initialized to zero\n",
    "    removed_edges = 0\n",
    "    total_weight = 0\n",
    "    # main loop that will iterate till there are no more paths\n",
    "    while True:\n",
    "        path = bfs(graph, node_a, node_b) # look for the path\n",
    "        if not path:\n",
    "            print(\"The nodes are disconnected\")\n",
    "            break  # no path between the nodes, break the loop\n",
    "\n",
    "        # iteareate over the found path and break it (one edge per time)\n",
    "        for i in range(len(path) - 1):\n",
    "            node1, node2 = path[i], path[i+1]\n",
    "\n",
    "            # remove the edge between nodes\n",
    "            if graph.has_edge(node1, node2):\n",
    "                # get the weight\n",
    "                edge_data = graph.get_edge_data(node1, node2)\n",
    "                if edge_data is not None and \"weight\" in edge_data:\n",
    "                    total_weight += edge_data[\"weight\"] # update the removed weight\n",
    "                # remove the edge and update the counter\n",
    "                graph.remove_edge(node1, node2)\n",
    "                removed_edges += 1\n",
    "\n",
    "    return total_weight, removed_edges"
   ]
  },
  {
   "cell_type": "markdown",
   "id": "c0181c81",
   "metadata": {},
   "source": [
    "To test our code we select 2 random authors out of the top N (N arbitrary chosen) based on their degrees."
   ]
  },
  {
   "cell_type": "code",
   "execution_count": 247,
   "id": "ed25972e",
   "metadata": {},
   "outputs": [
    {
     "name": "stdout",
     "output_type": "stream",
     "text": [
      "The nodes are disconnected\n",
      "(261, 215)\n"
     ]
    }
   ],
   "source": [
    "N = 1000\n",
    "degrees = dict(collaboration_subgraph.degree())\n",
    "topN_authors = sorted(degrees.items(),key=lambda x:x[1],reverse=True)[:N]\n",
    "topN_authors_aux = [el[0] for el in topN_authors]\n",
    "subgraph_auth = collaboration_subgraph.subgraph(topN_authors_aux)\n",
    "n = 2\n",
    "subsample = random.sample(topN_authors_aux, n)\n",
    "cnt = min_cut_edges(collaboration_graph,subsample[0],subsample[1])\n",
    "print('Total weight removed: ', cnt[0])\n",
    "print('Total number of edges removed: ', cnt[1])"
   ]
  },
  {
   "cell_type": "markdown",
   "id": "a1419192",
   "metadata": {},
   "source": [
    "Notice that of course, regardless the input, the total weight removed will be higher or at least the same as the number of edges removed."
   ]
  },
  {
   "cell_type": "markdown",
   "id": "f81ac387",
   "metadata": {},
   "source": [
    "---\n",
    "### Functionality 5 - Extracting Communities\n",
    "---"
   ]
  },
  {
   "cell_type": "markdown",
   "id": "f3123811",
   "metadata": {},
   "source": [
    "Extracting communities from a graph refers to the process of identifying groups of nodes that are more densely connected with each other than with the rest of the nodes in the graph. Hence, a community is a subset of nodes with an higher connectivity compared to their connectivity with other nodes.  \n",
    "\n",
    "In our implementation we try to find communities by iteratively removing edges with high betweenness centrality (i.e. edges that connect different parts of the graph).\n",
    "\n",
    "In this case we need in input a full connected graph, hence we will work with the *citation_subgraph*; in fact we made a check over the number of connected components that if it's greater than 1 will end the function right away.\n",
    "Moreover, our implementation requires that the input graph is undirected, so we need to transform it. \n",
    "\n",
    "Given that our implementation is based on the edge betweenness, we will compute the betweennes for each edge, we will sort them in descending order and then we will iteratively remove edges with the highest betweenness until the graph has more than just one connected component.  \n",
    "\n",
    "In order to check if the two given papers ended up in the same community we first list all the communities (create a list with all the connected components) and then we iterate over the communities and check if the two papers are in the same community.\n",
    "\n",
    "In the end we are request to return the number of removed edges too and so we first computed the number of nodes (through the Networkx method) at the start of the function and then we compute the difference when returning. "
   ]
  },
  {
   "cell_type": "code",
   "execution_count": null,
   "id": "9aa668cd",
   "metadata": {},
   "outputs": [],
   "source": [
    "def extracting_communities(graph, p1, p2):\n",
    "    # We need an undirected graph\n",
    "    graph_copy = graph.to_undirected()\n",
    "\n",
    "    if nx.number_connected_components(graph_copy) > 1:\n",
    "        print(\"The graph is not full connected!\")\n",
    "        return 0,[],False\n",
    "    \n",
    "    # Calculate the initial number of edges\n",
    "    num_edges_start = graph_copy.number_of_edges()\n",
    "\n",
    "    # Calculate betweenness centrality for each edge\n",
    "    edge_betweenness = nx.edge_betweenness_centrality(graph_copy)\n",
    "\n",
    "    # Sort edges by betweenness centrality in descending order\n",
    "    sorted_edges = sorted(edge_betweenness.items(), key=lambda x: x[1], reverse=True)\n",
    "    \n",
    "   \n",
    "    # Remove edges until the graph has more than one connected component\n",
    "    while nx.number_connected_components(graph_copy) == 1:\n",
    "        edge_to_remove = sorted_edges.pop(0)[0]\n",
    "        graph_copy.remove_edge(*edge_to_remove)\n",
    "\n",
    "    # Find connected components as communities\n",
    "    communities = list(nx.connected_components(graph_copy))\n",
    "\n",
    "    # Check if Paper_1 and Paper_2 belong to the same community\n",
    "    same_community = any({p1, p2} <= community for community in communities)\n",
    "\n",
    "    # Calculate the minimum number of edges removed\n",
    "    num_edges_end = graph_copy.number_of_edges()\n",
    "    # return a copy too that allows us to propery plot\n",
    "    return num_edges_start-num_edges_end, communities, same_community, graph_copy \n"
   ]
  },
  {
   "cell_type": "markdown",
   "id": "2c1b99d3",
   "metadata": {},
   "source": [
    "Given that we need a full connected graph, we are using the citation subgraph, which is full connected but has only 22 nodes. For the sake of the test we choose 2 random papers among all the nodes."
   ]
  },
  {
   "cell_type": "code",
   "execution_count": null,
   "id": "637b2562",
   "metadata": {},
   "outputs": [
    {
     "name": "stdout",
     "output_type": "stream",
     "text": [
      "Number of nodes: 22\n",
      "Papers we want: 2092654472 2152761983\n"
     ]
    },
    {
     "name": "stdout",
     "output_type": "stream",
     "text": [
      "The graph is not connected\n",
      "Edges to eliminate: 0\n",
      "Number of communities: 0\n",
      "Are the paper in the same community? False\n"
     ]
    }
   ],
   "source": [
    "# number of nodes we want to analyze\n",
    "n = 2\n",
    "subsample = random.sample(list(citation_subgraph.nodes), n)\n",
    "print(\"Papers we want:\",subsample[0],subsample[1])\n",
    "min,cm,is_cm,g_copy = extracting_communities(citation_subgraph.copy(),subsample[0],subsample[1])\n",
    "print(\"Edges to eliminate:\",min)\n",
    "print(\"Number of communities:\",len(cm))\n",
    "print(\"Are the paper in the same community?\",is_cm)"
   ]
  },
  {
   "cell_type": "markdown",
   "id": "39cd9430",
   "metadata": {},
   "source": [
    "## 2.2. Frontend Implementation"
   ]
  },
  {
   "cell_type": "markdown",
   "id": "c9b66ce5",
   "metadata": {},
   "source": [
    "---\n",
    "#### Visualization 1 - Visualize graph features\n",
    "---               "
   ]
  },
  {
   "cell_type": "code",
   "execution_count": 169,
   "id": "925e843b",
   "metadata": {},
   "outputs": [],
   "source": [
    "def visualize_basic(graph,graph_name):\n",
    "  nodes_n,edge_n,density,degree_dist,degree_avg,hub,is_dense = graph_features(graph,graph_name)\n",
    "  if is_dense == 0:\n",
    "    is_dense = 'Sparse'\n",
    "  else:\n",
    "    is_dense = 'Dense'\n",
    "  data = {\"Number of nodes\": nodes_n,\"Number of edges\": edge_n,\"Density\": density,\"Average degree\": degree_avg,\"Dense or Sparse\": is_dense}\n",
    "  df = pd.DataFrame(data, index =[0])\n",
    "  formatted_df = df.style.format(precision=3, thousands=\".\", decimal=\",\").format_index(str.upper, axis=1)\n",
    "  print(\"------------------------------------TABLE OF STATISTICS------------------------------------\")\n",
    "  display(formatted_df)\n",
    "  print(\"\\n\")\n",
    "  print(\"------------------------------------TABLE OF HUBS-----------------------------------------\")\n",
    "  data_hub = pd.DataFrame({\"HUB NODES\" : hub})\n",
    "  display(data_hub)\n",
    "  if graph_name == COLLAB_GRAP:\n",
    "    #Plot depicting the number of collaborations of the author \n",
    "    df_degree = pd.DataFrame({'Degree': range(len(degree_dist)), 'Count': degree_dist})\n",
    "    # To not have 0 values otherwise the log scale will not work\n",
    "    df_degree_filtered = df_degree[df_degree['Count'] > 0]\n",
    "    print(\"\\n\")\n",
    "    print(\"------------------------------------PLOT OF THE DEGREE------------------------------------\")\n",
    "    plt.figure(figsize=(6, 5))\n",
    "    plt.bar(df_degree_filtered['Degree'], df_degree_filtered['Count'], log=True, width=3, color='#3D52D5', alpha=1)\n",
    "    plt.title('Degree Distribution - Log Scale')\n",
    "    plt.xlabel('Degree')\n",
    "    plt.ylabel('Count (Log Scale)')\n",
    "    plt.show()\n",
    "  elif graph_name == CIT_GRAPH:\n",
    "    in_deg , out_deg = degree_dist \n",
    "    df_degree_in = pd.DataFrame({'Degree': range(len(in_deg)), 'Count': in_deg})\n",
    "    # To not have 0 values otherwise the log scale will not work\n",
    "    df_degree_in_filtered = df_degree_in[df_degree_in['Count'] > 0]\n",
    "    # Plot con scala logaritmica\n",
    "    print(\"\\n\")\n",
    "    print(\"-----------------------------------------------------------PLOT OF THE DEGREE-----------------------------------------------------------\")\n",
    "    fig, axs = plt.subplots(1, 2, figsize=(12, 5))  # Modifica la dimensione se necessario\n",
    "    df_degree_out = pd.DataFrame({'Degree': range(len(out_deg)), 'Count': out_deg})\n",
    "    # To not have 0 values otherwise the log scale will not work\n",
    "    df_degree_out_filtered = df_degree_out[df_degree_out['Count'] > 0]\n",
    "    # Plot sul primo asse\n",
    "    axs[0].bar(df_degree_in_filtered['Degree'], df_degree_in_filtered['Count'], log=True, width=3, color='#3D52D5', alpha=1)\n",
    "    axs[0].set_title('Inward Degree Distribution - Log Scale')\n",
    "    axs[0].set_xlabel('Inward Degree')\n",
    "    axs[0].set_ylabel('Count (Log Scale)')\n",
    "    axs[1].bar(df_degree_out_filtered['Degree'], df_degree_out_filtered['Count'], log=True, width=4, color='#3D52D5', alpha=1)\n",
    "    axs[1].set_title('Outward Degree Distribution - Log Scale')\n",
    "    axs[1].set_xlabel('Outward Degree')\n",
    "    axs[1].set_ylabel('Count (Log Scale)')\n",
    "  return "
   ]
  },
  {
   "cell_type": "code",
   "execution_count": 170,
   "id": "0d3d2b8d",
   "metadata": {},
   "outputs": [
    {
     "name": "stdout",
     "output_type": "stream",
     "text": [
      "------------------------------------TABLE OF STATISTICS------------------------------------\n"
     ]
    },
    {
     "data": {
      "text/html": [
       "<style type=\"text/css\">\n",
       "</style>\n",
       "<table id=\"T_8e89f\">\n",
       "  <thead>\n",
       "    <tr>\n",
       "      <th class=\"blank level0\" >&nbsp;</th>\n",
       "      <th id=\"T_8e89f_level0_col0\" class=\"col_heading level0 col0\" >NUMBER OF NODES</th>\n",
       "      <th id=\"T_8e89f_level0_col1\" class=\"col_heading level0 col1\" >NUMBER OF EDGES</th>\n",
       "      <th id=\"T_8e89f_level0_col2\" class=\"col_heading level0 col2\" >DENSITY</th>\n",
       "      <th id=\"T_8e89f_level0_col3\" class=\"col_heading level0 col3\" >AVERAGE DEGREE</th>\n",
       "      <th id=\"T_8e89f_level0_col4\" class=\"col_heading level0 col4\" >DENSE OR SPARSE</th>\n",
       "    </tr>\n",
       "  </thead>\n",
       "  <tbody>\n",
       "    <tr>\n",
       "      <th id=\"T_8e89f_level0_row0\" class=\"row_heading level0 row0\" >0</th>\n",
       "      <td id=\"T_8e89f_row0_col0\" class=\"data row0 col0\" >99.914</td>\n",
       "      <td id=\"T_8e89f_row0_col1\" class=\"data row0 col1\" >187.027</td>\n",
       "      <td id=\"T_8e89f_row0_col2\" class=\"data row0 col2\" >0,000</td>\n",
       "      <td id=\"T_8e89f_row0_col3\" class=\"data row0 col3\" >3,744</td>\n",
       "      <td id=\"T_8e89f_row0_col4\" class=\"data row0 col4\" >Sparse</td>\n",
       "    </tr>\n",
       "  </tbody>\n",
       "</table>\n"
      ],
      "text/plain": [
       "<pandas.io.formats.style.Styler at 0x2446ad0c410>"
      ]
     },
     "metadata": {},
     "output_type": "display_data"
    },
    {
     "name": "stdout",
     "output_type": "stream",
     "text": [
      "\n",
      "\n",
      "------------------------------------TABLE OF HUBS-----------------------------------------\n"
     ]
    },
    {
     "data": {
      "text/html": [
       "<div>\n",
       "<style scoped>\n",
       "    .dataframe tbody tr th:only-of-type {\n",
       "        vertical-align: middle;\n",
       "    }\n",
       "\n",
       "    .dataframe tbody tr th {\n",
       "        vertical-align: top;\n",
       "    }\n",
       "\n",
       "    .dataframe thead th {\n",
       "        text-align: right;\n",
       "    }\n",
       "</style>\n",
       "<table border=\"1\" class=\"dataframe\">\n",
       "  <thead>\n",
       "    <tr style=\"text-align: right;\">\n",
       "      <th></th>\n",
       "      <th>HUB NODES</th>\n",
       "    </tr>\n",
       "  </thead>\n",
       "  <tbody>\n",
       "    <tr>\n",
       "      <th>0</th>\n",
       "      <td>1699105</td>\n",
       "    </tr>\n",
       "    <tr>\n",
       "      <th>1</th>\n",
       "      <td>1604454960</td>\n",
       "    </tr>\n",
       "    <tr>\n",
       "      <th>2</th>\n",
       "      <td>1660562555</td>\n",
       "    </tr>\n",
       "    <tr>\n",
       "      <th>3</th>\n",
       "      <td>2109394932</td>\n",
       "    </tr>\n",
       "    <tr>\n",
       "      <th>4</th>\n",
       "      <td>2151511199</td>\n",
       "    </tr>\n",
       "    <tr>\n",
       "      <th>...</th>\n",
       "      <td>...</td>\n",
       "    </tr>\n",
       "    <tr>\n",
       "      <th>5037</th>\n",
       "      <td>2896457183</td>\n",
       "    </tr>\n",
       "    <tr>\n",
       "      <th>5038</th>\n",
       "      <td>2897840903</td>\n",
       "    </tr>\n",
       "    <tr>\n",
       "      <th>5039</th>\n",
       "      <td>2912601938</td>\n",
       "    </tr>\n",
       "    <tr>\n",
       "      <th>5040</th>\n",
       "      <td>2913535645</td>\n",
       "    </tr>\n",
       "    <tr>\n",
       "      <th>5041</th>\n",
       "      <td>2913703059</td>\n",
       "    </tr>\n",
       "  </tbody>\n",
       "</table>\n",
       "<p>5042 rows × 1 columns</p>\n",
       "</div>"
      ],
      "text/plain": [
       "       HUB NODES\n",
       "0        1699105\n",
       "1     1604454960\n",
       "2     1660562555\n",
       "3     2109394932\n",
       "4     2151511199\n",
       "...          ...\n",
       "5037  2896457183\n",
       "5038  2897840903\n",
       "5039  2912601938\n",
       "5040  2913535645\n",
       "5041  2913703059\n",
       "\n",
       "[5042 rows x 1 columns]"
      ]
     },
     "metadata": {},
     "output_type": "display_data"
    },
    {
     "name": "stdout",
     "output_type": "stream",
     "text": [
      "\n",
      "\n",
      "-----------------------------------------------------------PLOT OF THE DEGREE-----------------------------------------------------------\n"
     ]
    },
    {
     "data": {
      "image/png": "[encoded data removed]",
      "text/plain": [
       "<Figure size 1200x500 with 2 Axes>"
      ]
     },
     "metadata": {},
     "output_type": "display_data"
    }
   ],
   "source": [
    "visualize_basic(citation_graph,CIT_GRAPH)"
   ]
  },
  {
   "cell_type": "markdown",
   "id": "671886f3",
   "metadata": {},
   "source": [
    "---\n",
    "#### Visualization 2 - Visualize the node's contribution\n",
    "---        "
   ]
  },
  {
   "cell_type": "code",
   "execution_count": 202,
   "id": "602852a7",
   "metadata": {},
   "outputs": [],
   "source": [
    "def visualize_centrality(graph,node,graph_name):\n",
    "    btwn,pr,clsn,dc = nodes_contribution(graph,node,graph_name)\n",
    "    data = {\"Betweenness Centrality\": btwn,\"Pagerank\": pr,\"Closeness Centrality\": clsn,\"Degree Centrality\": dc}\n",
    "    df = pd.DataFrame(data, index =[0])\n",
    "    formatted_df = df.style.format(precision=3, thousands=\".\", decimal=\",\").format_index(str.upper, axis=1)\n",
    "    display(formatted_df)"
   ]
  },
  {
   "cell_type": "code",
   "execution_count": 207,
   "id": "f5b3ad00",
   "metadata": {},
   "outputs": [
    {
     "name": "stdout",
     "output_type": "stream",
     "text": [
      "------------------------------- TABLE OF CENTRALITIES -------------------------------\n"
     ]
    },
    {
     "data": {
      "text/html": [
       "<style type=\"text/css\">\n",
       "</style>\n",
       "<table id=\"T_d0cf9\">\n",
       "  <thead>\n",
       "    <tr>\n",
       "      <th class=\"blank level0\" >&nbsp;</th>\n",
       "      <th id=\"T_d0cf9_level0_col0\" class=\"col_heading level0 col0\" >BETWEENNESS CENTRALITY</th>\n",
       "      <th id=\"T_d0cf9_level0_col1\" class=\"col_heading level0 col1\" >PAGERANK</th>\n",
       "      <th id=\"T_d0cf9_level0_col2\" class=\"col_heading level0 col2\" >CLOSENESS CENTRALITY</th>\n",
       "      <th id=\"T_d0cf9_level0_col3\" class=\"col_heading level0 col3\" >DEGREE CENTRALITY</th>\n",
       "    </tr>\n",
       "  </thead>\n",
       "  <tbody>\n",
       "    <tr>\n",
       "      <th id=\"T_d0cf9_level0_row0\" class=\"row_heading level0 row0\" >0</th>\n",
       "      <td id=\"T_d0cf9_row0_col0\" class=\"data row0 col0\" >0,048</td>\n",
       "      <td id=\"T_d0cf9_row0_col1\" class=\"data row0 col1\" >0,037</td>\n",
       "      <td id=\"T_d0cf9_row0_col2\" class=\"data row0 col2\" >0,219</td>\n",
       "      <td id=\"T_d0cf9_row0_col3\" class=\"data row0 col3\" >0,238</td>\n",
       "    </tr>\n",
       "  </tbody>\n",
       "</table>\n"
      ],
      "text/plain": [
       "<pandas.io.formats.style.Styler at 0x2446b931d50>"
      ]
     },
     "metadata": {},
     "output_type": "display_data"
    }
   ],
   "source": [
    "print(\"------------------------------- TABLE OF CENTRALITIES -------------------------------\")\n",
    "visualize_centrality(citation_subgraph,2139212933,'citation')"
   ]
  },
  {
   "cell_type": "markdown",
   "id": "3c4653c0",
   "metadata": {},
   "source": [
    "---\n",
    "#### Visualization 3 - Visualize the shortest-ordered route\n",
    "---"
   ]
  },
  {
   "cell_type": "code",
   "execution_count": 252,
   "id": "498daf90",
   "metadata": {},
   "outputs": [],
   "source": [
    "def visualize_shortest_ordered_route(graph,subsample,N,n):\n",
    "    degrees = dict(collaboration_graph.degree())\n",
    "    topN_authors = sorted(degrees.items(),key=lambda x:x[1],reverse=True)[:N]\n",
    "    topN_authors_aux = [el[0] for el in topN_authors]\n",
    "    graph_auth = collaboration_graph.subgraph(topN_authors_aux)\n",
    "    path, papers = shortest_ordered_walk(graph_auth, subsample)\n",
    "    print('\\nList of papers we crossed:')\n",
    "    for paper in papers:\n",
    "        print(paper)\n",
    "    font_size = 8  \n",
    "    lista_edge = [(path[i], path[i+1]) for i in range(len(path)-1)]\n",
    "    edge_colors = ['#3D52D5' if (u, v) in lista_edge or (v, u) in lista_edge else 'lightgray' for u, v in graph_auth.edges()]\n",
    "\n",
    "    # Utilizza una disposizione statica per posizionare i nodi\n",
    "    pos = nx.circular_layout(graph_auth)  # Puoi provare anche con nx.shell_layout(graph_auth)\n",
    "\n",
    "    nx.draw(graph_auth, with_labels=True, font_size=font_size, edge_color=edge_colors, node_color=\"orange\", pos=pos)\n",
    "    plt.title('Shortest Path')\n",
    "\n",
    "    edge_labels = {(u, v): i + 1 for i, (u, v) in enumerate(zip(path[:-1], path[1:]))}\n",
    "    nx.draw_networkx_edge_labels(graph_auth, pos=pos, edge_labels=edge_labels)\n",
    "    plt.show()"
   ]
  },
  {
   "cell_type": "code",
   "execution_count": 257,
   "id": "828a0a5a",
   "metadata": {},
   "outputs": [
    {
     "name": "stdout",
     "output_type": "stream",
     "text": [
      "WARNING: There is no such path!\n",
      "\n",
      "List of papers we crossed:\n"
     ]
    },
    {
     "ename": "TypeError",
     "evalue": "'NoneType' object is not iterable",
     "output_type": "error",
     "traceback": [
      "\u001b[1;31m---------------------------------------------------------------------------\u001b[0m",
      "\u001b[1;31mTypeError\u001b[0m                                 Traceback (most recent call last)",
      "Cell \u001b[1;32mIn[257], line 1\u001b[0m\n\u001b[1;32m----> 1\u001b[0m \u001b[43mvisualize_shortest_ordered_route\u001b[49m\u001b[43m(\u001b[49m\u001b[43mcollaboration_subgraph\u001b[49m\u001b[43m,\u001b[49m\u001b[43mrandom\u001b[49m\u001b[38;5;241;43m.\u001b[39;49m\u001b[43msample\u001b[49m\u001b[43m(\u001b[49m\u001b[43mtopN_authors_aux\u001b[49m\u001b[43m,\u001b[49m\u001b[43m \u001b[49m\u001b[43mn\u001b[49m\u001b[43m)\u001b[49m\u001b[43m,\u001b[49m\u001b[38;5;241;43m20\u001b[39;49m\u001b[43m,\u001b[49m\u001b[38;5;241;43m5\u001b[39;49m\u001b[43m)\u001b[49m\n",
      "Cell \u001b[1;32mIn[252], line 8\u001b[0m, in \u001b[0;36mvisualize_shortest_ordered_route\u001b[1;34m(graph, subsample, N, n)\u001b[0m\n\u001b[0;32m      6\u001b[0m path, papers \u001b[38;5;241m=\u001b[39m shortest_ordered_walk(graph_auth, subsample)\n\u001b[0;32m      7\u001b[0m \u001b[38;5;28mprint\u001b[39m(\u001b[38;5;124m'\u001b[39m\u001b[38;5;130;01m\\n\u001b[39;00m\u001b[38;5;124mList of papers we crossed:\u001b[39m\u001b[38;5;124m'\u001b[39m)\n\u001b[1;32m----> 8\u001b[0m \u001b[38;5;28;01mfor\u001b[39;00m paper \u001b[38;5;129;01min\u001b[39;00m papers:\n\u001b[0;32m      9\u001b[0m     \u001b[38;5;28mprint\u001b[39m(paper)\n\u001b[0;32m     10\u001b[0m font_size \u001b[38;5;241m=\u001b[39m \u001b[38;5;241m8\u001b[39m  \n",
      "\u001b[1;31mTypeError\u001b[0m: 'NoneType' object is not iterable"
     ]
    }
   ],
   "source": [
    "visualize_shortest_ordered_route(collaboration_subgraph,random.sample(topN_authors_aux, n),20,5)"
   ]
  },
  {
   "cell_type": "markdown",
   "id": "b72ed3c5",
   "metadata": {},
   "source": [
    "---\n",
    "#### Visualization 4 - Visualize the disconnected graph\n",
    "---"
   ]
  },
  {
   "cell_type": "markdown",
   "id": "718a5e61",
   "metadata": {},
   "source": [
    "We anticipate seeing the Functionality 4 report in Visualization 4. To be more specific, we expect you to have the following report format:\n",
    "\n",
    "Print the number of the links that should be disconnected\n",
    "Plot the original graph\n",
    "Plot the graph after removing the links and identify the two nodes"
   ]
  },
  {
   "cell_type": "code",
   "execution_count": null,
   "id": "ec05ee7d",
   "metadata": {},
   "outputs": [],
   "source": [
    "def visualize_disconnected_graph(graph,node_a,node_b,N):\n",
    "    degrees = dict(graph.degree())\n",
    "    topN_authors = sorted(degrees.items(),key=lambda x:x[1],reverse=True)[:N]\n",
    "    topN_authors_aux = [el[0] for el in topN_authors]\n",
    "    subgraph_auth = graph.subgraph(topN_authors_aux)\n",
    "    cnt = min_cut_edges(graph,node_a,node_b)"
   ]
  },
  {
   "cell_type": "code",
   "execution_count": 250,
   "id": "b674df14",
   "metadata": {},
   "outputs": [],
   "source": [
    "def min_cut_edges(graph, node_a, node_b):\n",
    "    removed_edges = 0\n",
    "    total_weight = 0\n",
    "\n",
    "    while True:\n",
    "        path = bfs(graph, node_a, node_b)\n",
    "        if not path:\n",
    "            print(\"The nodes are disconnected\")\n",
    "            break  # No path found between A and B, break the loop\n",
    "\n",
    "        # Cut the graph along the found path\n",
    "        for i in range(len(path) - 1):\n",
    "            node1, node2 = path[i], path[i+1]\n",
    "\n",
    "            # Remove the edge between node1 and node2\n",
    "            if graph.has_edge(node1, node2):\n",
    "                # Get the weight of the removed edge\n",
    "                edge_data = graph.get_edge_data(node1, node2)\n",
    "                if edge_data is not None and \"weight\" in edge_data:\n",
    "                    total_weight += edge_data[\"weight\"]\n",
    "\n",
    "                graph.remove_edge(node1, node2)\n",
    "                removed_edges += 1\n",
    "\n",
    "    return total_weight, removed_edges"
   ]
  },
  {
   "cell_type": "code",
   "execution_count": 251,
   "id": "01a4bfc8",
   "metadata": {},
   "outputs": [
    {
     "name": "stdout",
     "output_type": "stream",
     "text": [
      "The nodes are disconnected\n",
      "(519, 519)\n"
     ]
    }
   ],
   "source": [
    "N = 50\n",
    "degrees = dict(collaboration_subgraph.degree())\n",
    "topN_authors = sorted(degrees.items(),key=lambda x:x[1],reverse=True)[:N]\n",
    "topN_authors_aux = [el[0] for el in topN_authors]\n",
    "subgraph_auth = collaboration_subgraph.subgraph(topN_authors_aux)\n",
    "n = 2\n",
    "subsample = random.sample(topN_authors_aux, n)\n",
    "cnt = min_cut_edges(collaboration_graph,subsample[0],subsample[1])\n",
    "print(cnt)"
   ]
  },
  {
   "cell_type": "markdown",
   "id": "8356ec31",
   "metadata": {},
   "source": [
    "---\n",
    "#### Visualization 5 - Visualize the communities\n",
    "---"
   ]
  },
  {
   "cell_type": "markdown",
   "id": "13c72d7c",
   "metadata": {},
   "source": [
    "- Print the number of links that should be removed to have the communities  \n",
    "- A table depicting the communities and the papers that belong to each community  \n",
    "- Plot the original graph  \n",
    "- Plot the graph showing the communities in the network  \n",
    "- Plot the final graph and identify the community/communities of Paper_1 and Paper_2  "
   ]
  },
  {
   "cell_type": "code",
   "execution_count": null,
   "id": "22d5b795",
   "metadata": {},
   "outputs": [],
   "source": [
    "n = 2\n",
    "subsample = random.sample(list(citation_subgraph.nodes), n)\n",
    "min_edge,cm,is_cm,g_copy = extracting_communities(citation_subgraph.copy(),subsample[0],subsample[1])"
   ]
  },
  {
   "cell_type": "markdown",
   "id": "2a4a5654",
   "metadata": {},
   "source": [
    "Number of links that should be removed to have the communities:"
   ]
  },
  {
   "cell_type": "code",
   "execution_count": null,
   "id": "114f75fd",
   "metadata": {},
   "outputs": [],
   "source": [
    "print(\"Edges to eliminate:\",min_edge)"
   ]
  },
  {
   "cell_type": "markdown",
   "id": "19762544",
   "metadata": {},
   "source": [
    "A table depicting the communities and the papers that belong to each community. Here we showed only 4 elements per row in order to keep the plot tidy, but in the first row there are actually 21 nodes to display. Given that in the second community there is just one element, we find this the better and cleaner way to plot it."
   ]
  },
  {
   "cell_type": "code",
   "execution_count": null,
   "id": "f6746ae2",
   "metadata": {},
   "outputs": [],
   "source": [
    "cm_2 = [list(community)[:4] + ['...'] if len(community) > 4 else list(community) for community in cm]\n",
    "\n",
    "df = pd.DataFrame({\"Index\": range(len(cm_2)), \"Set\": cm_2})\n",
    "\n",
    "table = tabulate(df, headers='keys', tablefmt='pretty', showindex=False)\n",
    "print(table)"
   ]
  },
  {
   "cell_type": "markdown",
   "id": "cfb0f359",
   "metadata": {},
   "source": [
    "Here we plot the original graph:"
   ]
  },
  {
   "cell_type": "code",
   "execution_count": null,
   "id": "31318f17",
   "metadata": {},
   "outputs": [],
   "source": [
    "nx.draw(citation_subgraph)"
   ]
  },
  {
   "cell_type": "markdown",
   "id": "25de772e",
   "metadata": {},
   "source": [
    "Then we plot the graph showing the communities:"
   ]
  },
  {
   "cell_type": "code",
   "execution_count": null,
   "id": "93d24bb9",
   "metadata": {},
   "outputs": [],
   "source": [
    "pos = nx.spring_layout(citation_subgraph)  # You can use other layout algorithms\n",
    "node_colors = [community_id for community_id, nodes in enumerate(cm) for node in nodes]\n",
    "\n",
    "nx.draw(citation_subgraph, pos, node_color=node_colors, cmap=plt.cm.rainbow)"
   ]
  },
  {
   "cell_type": "markdown",
   "id": "ef7f2594",
   "metadata": {},
   "source": [
    "Plot the final graph and identify the community/communities of Paper_1 and Paper_2.\n",
    "To properly display the choosen nodes we highlighted them witha different color and to mark the different communities we added a label woth the community ID (we enumerated the community such that each community has a serial number)."
   ]
  },
  {
   "cell_type": "code",
   "execution_count": null,
   "id": "e0c3dc69",
   "metadata": {},
   "outputs": [],
   "source": [
    "pos = nx.spring_layout(g_copy)\n",
    "node_labels = {node: f'Cm.{community_id}' for community_id, nodes in enumerate(cm) for node in nodes}\n",
    "\n",
    "node_colors = ['red' if node in subsample else 'blue' for node in g_copy.nodes]\n",
    "\n",
    "nx.draw(g_copy,pos,node_color=node_colors, cmap=plt.cm.rainbow,labels=node_labels)"
   ]
  },
  {
   "cell_type": "markdown",
   "id": "3bf23adc",
   "metadata": {},
   "source": [
    "## 4. Command Line Question (CLQ)\n",
    "In this question, you should use any command line tools that you know to answer the following questions using the **directed** and **unweighted graph** that you have previously created: **Citation graph**:\n",
    "\n",
    "---\n",
    "\n",
    "Before solving the questions in the Command Line we find the largest strongly connected component and save the subgraph inside a file which we are going to use in the Command Line. We decided to work on a subgraph for computation time reasons."
   ]
  },
  {
   "cell_type": "code",
   "execution_count": null,
   "id": "50d59afa",
   "metadata": {},
   "outputs": [],
   "source": [
    "# Get all strongly connected components\n",
    "strongly_connected_components = nx.strongly_connected_components(citation_graph)\n",
    "\n",
    "# Find the largest strongly connected component\n",
    "largest_component = max(strongly_connected_components, key=len)\n",
    "\n",
    "# Create a subgraph from the largest component\n",
    "citation_subgraph = citation_graph.subgraph(largest_component)"
   ]
  },
  {
   "cell_type": "markdown",
   "id": "8fd7eeb6",
   "metadata": {},
   "source": [
    "---\n",
    "\n",
    "We quickly plot the subgraph:\n",
    "\n",
    "---"
   ]
  },
  {
   "cell_type": "code",
   "execution_count": null,
   "id": "c25b2de9",
   "metadata": {},
   "outputs": [
    {
     "data": {
      "image/png": "[encoded data removed]",
      "text/plain": [
       "<Figure size 640x480 with 1 Axes>"
      ]
     },
     "metadata": {},
     "output_type": "display_data"
    }
   ],
   "source": [
    "# Plot the subgraph\n",
    "pos = nx.spring_layout(citation_subgraph)\n",
    "nx.draw(citation_subgraph,\n",
    "        pos,\n",
    "        with_labels=False,\n",
    "        arrowsize=13,\n",
    "        connectionstyle=\"arc3, rad=0.4\")\n",
    "plt.title(\"Largest Strongly Connected Component of the Citation Graph\")\n",
    "plt.show()"
   ]
  },
  {
   "cell_type": "markdown",
   "id": "0f541e62",
   "metadata": {},
   "source": [
    "---\n",
    "\n",
    "At last we save the subgraph in a file.\n",
    "\n",
    "---"
   ]
  },
  {
   "cell_type": "code",
   "execution_count": null,
   "id": "cd9b5262",
   "metadata": {},
   "outputs": [],
   "source": [
    "nx.write_edgelist(citation_subgraph, \"citation_subgraph.edgelist\", data=False)"
   ]
  },
  {
   "cell_type": "markdown",
   "id": "496b98bc",
   "metadata": {},
   "source": [
    "---\n",
    "\n",
    "The shell script is saved in the file `CommandLine.sh`. First you need to navigate to the file where the `scitation_subgraph.edgelist` file is saved by using the `cd` command and then you can run the script with the `./CommandLine.sh` command (before that you have to make sure that it is executable by using the `chmod +x CommandLine.sh` command).\n",
    "\n",
    "---"
   ]
  },
  {
   "cell_type": "markdown",
   "id": "be98d9ef",
   "metadata": {},
   "source": [
    "---\n",
    "\n",
    "1. Is there any node that acts as an important \"connector\" between the different parts of the graph?\n",
    "\n",
    "To identify a possible important connector we are going to calculate the betweenness centrality for each note:\n",
    "\n",
    "```bash\n",
    "# Calculate betweenness centrality for each node\n",
    "python -c \"import networkx as nx; citation_subgraph = nx.read_edgelist('citation_subgraph.edgelist', create_using=nx.DiGraph()); print('\\n'.join([f'{node} {centrality}' for node, centrality in nx.betweenness_centrality(citation_subgraph).items()]))\" > betweenness_centrality.txt\n",
    "\n",
    "# Sort nodes by betweenness centrality in descending order\n",
    "sort -k2 -rn betweenness_centrality.txt > sorted_betweenness_centrality.txt\n",
    "\n",
    "# Print the top connectors\n",
    "head -n 10 sorted_betweenness_centrality.txt\n",
    "```\n",
    "\n",
    "![Screenshot1](Screenshot1.png)\n",
    "\n",
    "---\n",
    "\n",
    "**Conclusion:** The node with the paper id `2121127625` has a betweenness centrality score of 0.51 which indicates that, on average, half of the shortest paths in the graph pass through that specific node. The nodes with the paper ids `2032210760`, `2107890099`, and `1975846642` have a similar importance.\n",
    "\n",
    "---"
   ]
  },
  {
   "cell_type": "markdown",
   "id": "ee192a6f",
   "metadata": {},
   "source": [
    "2. How does the degree of citation vary among the graph nodes?\n",
    "\n",
    "Because not specified we are going to analyze the in-degrees and out-degrees of each node. In our context the in-degrees represent the number of times a paper has been cited and the out-degrees represent the number of citations made by that paper.\n",
    "\n",
    "```bash\n",
    "# Calculate in-degree and out-degree for each node and print the largest and smallest value for each type of degree\n",
    "python -c \"import networkx as nx; citation_subgraph = nx.read_edgelist('citation_subgraph.edgelist', create_using=nx.DiGraph()); in_degrees = sorted(citation_subgraph.in_degree(), key=lambda x: x[1], reverse=True); out_degrees = sorted(citation_subgraph.out_degree(), key=lambda x: x[1], reverse=True); print(f'Largest In-Degree: {in_degrees[0][0]} {in_degrees[0][1]}'); print(f'Lowest In-Degree: {in_degrees[-1][0]} {in_degrees[-1][1]}'); print(f'Largest Out-Degree: {out_degrees[0][0]} {out_degrees[0][1]}'); print(f'Lowest Out-Degree: {out_degrees[-1][0]} {out_degrees[-1][1]}')\"\n",
    "```\n",
    "\n",
    "![Screenshot2](Screenshot2.png)\n",
    "\n",
    "---\n",
    "\n",
    "**Conclusion:** Both type of degrees vary between 1 and 7.\n",
    "\n",
    "---"
   ]
  },
  {
   "cell_type": "markdown",
   "id": "4990e9e7",
   "metadata": {},
   "source": [
    "3. What is the average length of the shortest path among nodes?\n",
    "\n",
    "For this we can straight forward use the inbuild function `average_shortest_path_length` from `networkx`.\n",
    "\n",
    "```bash\n",
    "# Calculate average length of the shortest path among nodes\n",
    "python -c \"import networkx as nx; citation_subgraph = nx.read_edgelist('citation_subgraph.edgelist', create_using=nx.DiGraph()); average_shortest_path = nx.average_shortest_path_length(citation_subgraph); print(f'Average Shortest Path Length: {average_shortest_path}')\"\n",
    "```\n",
    "\n",
    "![Screenshot3](Screenshot3.png)\n",
    "\n",
    "---\n",
    "\n",
    "**Conclusion:** The average length of the shortest path is 4.24 nodes.\n",
    "\n",
    "---"
   ]
  }
 ],
 "metadata": {
  "kernelspec": {
   "display_name": "Python 3 (ipykernel)",
   "language": "python",
   "name": "python3"
  },
  "language_info": {
   "codemirror_mode": {
    "name": "ipython",
    "version": 3
   },
   "file_extension": ".py",
   "mimetype": "text/x-python",
   "name": "python",
   "nbconvert_exporter": "python",
   "pygments_lexer": "ipython3",
   "version": "3.11.3"
  }
 },
 "nbformat": 4,
 "nbformat_minor": 5
}
